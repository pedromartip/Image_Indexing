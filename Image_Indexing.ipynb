{
 "cells": [
  {
   "cell_type": "markdown",
   "id": "57f8462d",
   "metadata": {
    "deletable": false,
    "editable": false,
    "nbgrader": {
     "cell_type": "markdown",
     "checksum": "b361c569619c5777091368813c9298fb",
     "grade": false,
     "grade_id": "cell_head_1",
     "locked": true,
     "schema_version": 3,
     "solution": false,
     "task": false
    }
   },
   "source": [
    "# 11762 Content-Based Image Retrieval\n",
    "## Master's Degree in Intelligent Systems\n",
    "### University of the Balearic Islands\n",
    "\n",
    "---\n",
    "\n",
    "**Before you turn this problem in, please put your full names and DNIs (or NIEs) below, and execute the cell:**"
   ]
  },
  {
   "cell_type": "code",
   "execution_count": 2,
   "id": "cd0919fe",
   "metadata": {},
   "outputs": [],
   "source": [
    "NAME  = \"Pedro Marti Pico\"\n",
    "DNI   = \"41574536N\"\n",
    "\n",
    "NAME2 = 'Raixa Madueño Mallofré'\n",
    "DNI2  = '49867599B'"
   ]
  },
  {
   "cell_type": "markdown",
   "id": "9990e233",
   "metadata": {
    "deletable": false,
    "editable": false,
    "nbgrader": {
     "cell_type": "markdown",
     "checksum": "6e99971bb70936fbf488fd64ed0c1efa",
     "grade": false,
     "grade_id": "cell_head_2",
     "locked": true,
     "schema_version": 3,
     "solution": false,
     "task": false
    }
   },
   "source": [
    "Make sure you fill in any place that says `YOUR CODE HERE` or `YOUR ANSWER HERE`. **Justify** all of your answers, **graphically** wherever possible. Remember that this notebook will be considered as a report to the work done during the assignment.\n",
    "\n",
    "---"
   ]
  },
  {
   "cell_type": "code",
   "execution_count": 1,
   "id": "a32b507a",
   "metadata": {
    "deletable": false,
    "editable": false,
    "nbgrader": {
     "cell_type": "code",
     "checksum": "4ed34114414f947ea18f0e3a656381d9",
     "grade": false,
     "grade_id": "cell-f6e621d3dd92a9f1",
     "locked": true,
     "schema_version": 3,
     "solution": false,
     "task": false
    }
   },
   "outputs": [],
   "source": [
    "# Setup code for this assignment\n",
    "import cv2\n",
    "import math\n",
    "import numpy as np\n",
    "import os\n",
    "import time\n",
    "import scipy.cluster.vq as vq\n",
    "import tqdm\n",
    "import zipfile\n",
    "\n",
    "## Adding parent folder to find other libs\n",
    "import sys\n",
    "if \"..\" not in sys.path:\n",
    "    sys.path.insert(0,\"..\")\n",
    "\n",
    "import iric_dev_kit.iric_utils.eval_holidays as ev\n",
    "import iric_dev_kit.iric_utils.read_descriptors as rd\n",
    "\n",
    "# Configuring Matplotlib\n",
    "from matplotlib import pyplot as plt\n",
    "%matplotlib inline"
   ]
  },
  {
   "cell_type": "markdown",
   "id": "d621778b",
   "metadata": {
    "deletable": false,
    "editable": false,
    "nbgrader": {
     "cell_type": "markdown",
     "checksum": "f77bb5d66178bad6cd0f36fd224fcb6f",
     "grade": false,
     "grade_id": "cell-3b814276a5ba86db",
     "locked": true,
     "schema_version": 3,
     "solution": false,
     "task": false
    }
   },
   "source": [
    "## Introduction\n",
    "In this assignment, you will implement and evaluate different methods for indexing images. As usual during this course, we will use the INRIA Holidays dataset. **Check the Assignment 1 to further information about this dataset.**\n",
    "\n",
    "We also need the provided script to evaluate a CBIR system on this dataset. Remember that the performance is measured computing the **Mean Average Precision** (mAP) over all queries. **Check also the Assignment 1 to remember how to use this script and the different functions it offers.**"
   ]
  },
  {
   "cell_type": "markdown",
   "id": "77b3c399",
   "metadata": {
    "deletable": false,
    "editable": false,
    "nbgrader": {
     "cell_type": "markdown",
     "checksum": "f525c9b743f3383ec8f06c742e58a752",
     "grade": false,
     "grade_id": "cell-da4850e64a976ad8",
     "locked": true,
     "schema_version": 3,
     "solution": false,
     "task": false
    }
   },
   "source": [
    "### Loading images\n",
    "As we did in Assignment 1, for managing images, we will create four lists:\n",
    "- **`query_names`**: File names of the *query* images\n",
    "- **`query_imgs`**: *Query* images loaded using OpenCV2\n",
    "- **`train_names`**: File names of the *train* (database) images\n",
    "- **`train_imgs`**: *Train* images loaded using OpenCV2\n",
    "\n",
    "In this assignment, we will use the original holidays dataset:"
   ]
  },
  {
   "cell_type": "code",
   "execution_count": null,
   "id": "78adf5f7",
   "metadata": {},
   "outputs": [
    {
     "name": "stdout",
     "output_type": "stream",
     "text": [
      "500\n",
      "991\n"
     ]
    }
   ],
   "source": [
    "# Separating the dataset into query and train images\n",
    "query_names = []\n",
    "query_imgs = []\n",
    "train_names = []\n",
    "train_imgs = []\n",
    "holidays_folder_path = '/Users/Pedro/Desktop/Master/IRIC/Practica'\n",
    "with open(f'{holidays_folder_path}/holidays/holidays_images.dat') as f:\n",
    "    for line in f:\n",
    "        imname = line.strip()\n",
    "        imno = int(imname[:-len(\".jpg\")])\n",
    "        img = cv2.imread(f'{holidays_folder_path}/holidays/images/' + imname)\n",
    "        # Resize the images for a faster operation in this assignment\n",
    "        img = cv2.resize(img, None, fx=0.25, fy=0.25, interpolation = cv2.INTER_CUBIC)\n",
    "    \n",
    "        # Checking if this is a query image\n",
    "        if imno % 100 == 0:\n",
    "            query_names.append(imname)\n",
    "            query_imgs.append(img)\n",
    "        else:\n",
    "            train_names.append(imname)\n",
    "            train_imgs.append(img)\n",
    "\n",
    "print(len(query_names))\n",
    "print(len(train_names))"
   ]
  },
  {
   "cell_type": "markdown",
   "id": "27d7080b",
   "metadata": {
    "deletable": false,
    "editable": false,
    "nbgrader": {
     "cell_type": "markdown",
     "checksum": "f8f2234188c58e21a5ed9b5aa170b06c",
     "grade": false,
     "grade_id": "cell-e0f678da073b3399",
     "locked": true,
     "schema_version": 3,
     "solution": false,
     "task": false
    }
   },
   "source": [
    "## Loading SIFT descriptors\n",
    "In this assignment we will create four additional lists:\n",
    "- **`query_kps`**: A list of lists of keypoints (cv2.KeyPoint) extracted from the *query* images\n",
    "- **`query_desc`**: A list of numpy arrays including, for each set of keypoints, the SIFT descriptors extracted from the *query* images\n",
    "- **`train_kps`**: A list of lists of keypoints (cv2.KeyPoint) extracted from the *train* (database) images\n",
    "- **`train_desc`**: A list of numpy arrays including, for each set of keypoints, the SIFT descriptors extracted from the *train* images\n",
    "\n",
    "Unlike in Assigment 1, now you will be provided with a set of SIFT descriptors for each image, and, therefore, you do not need to create these lists from scratch. First, download the descriptors from [here](https://uibes-my.sharepoint.com/:u:/g/personal/egf350_id_uib_eu/EYIP-UjSucZIsHL6aLNYRCcBDfBAd_42m9fHPuYB3kck4A).\n",
    "\n",
    "> **Unzip this file into the root directory of the development kit, at the same level of the datasets.**\n",
    "\n",
    "Now, a new directory called `siftgeo` should be in your workspace, containing the set of SIFT descriptors for each image of the dataset. These descriptors are stored in binary format and, thus, you are also provided with some tools to load them. To be more precise, you can call the function `load_SIFT_descriptors` to load the descriptors of a list of images:"
   ]
  },
  {
   "cell_type": "code",
   "execution_count": 4,
   "id": "f7e7e1c5",
   "metadata": {
    "deletable": false,
    "editable": false,
    "nbgrader": {
     "cell_type": "code",
     "checksum": "cc1b6e828616c74eecb5bd75ed481bf1",
     "grade": false,
     "grade_id": "cell-b4d6c65646fac5e2",
     "locked": true,
     "schema_version": 3,
     "solution": false,
     "task": false
    }
   },
   "outputs": [
    {
     "name": "stdout",
     "output_type": "stream",
     "text": [
      "500\n",
      "991\n",
      "500\n",
      "991\n",
      "(1000, 128)\n",
      "[[10.  6. 52. ... 15.  4.  0.]\n",
      " [16. 50. 12. ... 15.  4.  0.]\n",
      " [10. 11. 58. ...  7.  4.  4.]\n",
      " ...\n",
      " [27. 15.  0. ... 16.  8. 12.]\n",
      " [51. 47. 14. ... 35. 26.  0.]\n",
      " [ 2. 37. 25. ... 47. 13.  8.]]\n"
     ]
    }
   ],
   "source": [
    "# Loading descriptors\n",
    "query_kps, query_desc = rd.load_SIFT_descriptors(query_names, max_desc=1000)\n",
    "train_kps, train_desc = rd.load_SIFT_descriptors(train_names, max_desc=1000)\n",
    "\n",
    "# Some prints\n",
    "print(len(query_kps))\n",
    "print(len(train_kps))\n",
    "print(len(query_desc))\n",
    "print(len(train_desc))\n",
    "print(query_desc[0].shape)\n",
    "print(query_desc[0])"
   ]
  },
  {
   "cell_type": "markdown",
   "id": "6b8f8d0c",
   "metadata": {
    "deletable": false,
    "editable": false,
    "nbgrader": {
     "cell_type": "markdown",
     "checksum": "def82a2846a9805038575d7a32f876d1",
     "grade": false,
     "grade_id": "cell-ab2d437e9c4904da",
     "locked": true,
     "schema_version": 3,
     "solution": false,
     "task": false
    }
   },
   "source": [
    "For development purposes, we use the parameter `max_desc` to load a maximum number (1000) of the descriptors. This will speed up the execution of the rest of the notebook, while the decrease in performance will be minimum.\n",
    "\n",
    "> **Some images do not have keypoints/descriptors. Take this into account when you develop your solution.**"
   ]
  },
  {
   "cell_type": "markdown",
   "id": "9e2aeee4",
   "metadata": {
    "deletable": false,
    "editable": false,
    "nbgrader": {
     "cell_type": "markdown",
     "checksum": "60adae6f4efbeab4f703dbd5766b886a",
     "grade": false,
     "grade_id": "cell-d1426301b6919ea6",
     "locked": true,
     "schema_version": 3,
     "solution": false,
     "task": false
    }
   },
   "source": [
    "## $k$-d trees and LSH \n",
    "Let's start coding. At this section, you will develop a retrieval system using $k$-d trees and Locality Sensitive Hashing (LSH). "
   ]
  },
  {
   "cell_type": "markdown",
   "id": "9b5ec641",
   "metadata": {
    "deletable": false,
    "editable": false,
    "nbgrader": {
     "cell_type": "markdown",
     "checksum": "f777b4f2f29da5a3b28c0c26ca4e9859",
     "grade": false,
     "grade_id": "cell-06801f1c07fb6919",
     "locked": true,
     "schema_version": 3,
     "solution": false,
     "task": false
    }
   },
   "source": [
    "### General framework\n",
    "As we did in the first assignment, you first will develop some utilities to simplify your work. Write a function called `search_image` to search an image in a generic index (database). You should search each descriptor of the given query image and obtain its two closest SIFT descriptors in the database. Next, the initial set of matches should be filtered using the **NNDR criterion (use 0.8 as ratio)**, as you did in the previous assignment. For each database image, its final score with regard to this query image will be the **number of correct matches** with this image:"
   ]
  },
  {
   "cell_type": "code",
   "execution_count": 13,
   "id": "d9560c34",
   "metadata": {
    "deletable": false,
    "nbgrader": {
     "cell_type": "code",
     "checksum": "83f21825a10b2eff1d2829d308a0fd11",
     "grade": false,
     "grade_id": "cell-0bdc1eecfec1c973",
     "locked": false,
     "schema_version": 3,
     "solution": true,
     "task": false
    }
   },
   "outputs": [],
   "source": [
    "def search_image(descs, index, id_to_name):\n",
    "    \"\"\"\n",
    "    Search an image in the index\n",
    "    \n",
    "    - descs: A numpy array. This is the set descriptors extracted from the query image\n",
    "    - index: OpenCV FLANN index to search for descriptors.\n",
    "    - id_to_name: An associative list to link every image index to its real name\n",
    "        e.g. id_to_name[0] = '100001.jpg', id_to_name[1] = '100002.jpg'\n",
    "  \n",
    "    RETURN: \n",
    "    - An ordered list of similar images, e.g.: ['100101.jpg', '100202.jpg', ...]\n",
    "    \"\"\"\n",
    "    descs = np.float32(descs)\n",
    "    # Search for the closest descriptors in the index\n",
    "    matches = index.knnMatch(descs, k=2)  # Get two nearest neighbors for each query descriptor\n",
    "    \n",
    "    # Filter matches using NNDR criterion\n",
    "    good_matches = []\n",
    "    for match in matches:\n",
    "        if match[0].distance > match[1].distance * 0.8:  # Ratio test\n",
    "            #print(f'Estoy metiendo {id_to_name[match[0].imgIdx]}')\n",
    "            good_matches.append(id_to_name[match[0].imgIdx])\n",
    "\n",
    "    # Count the number of correct matches for each database image\n",
    "    image_scores = {}\n",
    "    for match in good_matches:\n",
    "        if match in image_scores:\n",
    "            image_scores[match] += 1\n",
    "        else:\n",
    "            image_scores[match] = 1\n",
    "\n",
    "    # Sort the images by their scores in descending order\n",
    "    sorted_images = sorted(image_scores.items(), key=lambda x: x[1], reverse=True)\n",
    "\n",
    "    # Extract only the image names from the sorted list\n",
    "    similar_images = [image[0] for image in sorted_images]\n",
    "\n",
    "    return similar_images\n"
   ]
  },
  {
   "cell_type": "markdown",
   "id": "5470e6a8",
   "metadata": {
    "deletable": false,
    "editable": false,
    "nbgrader": {
     "cell_type": "markdown",
     "checksum": "9645cb4e0f90d6437de5fa72c21ef651",
     "grade": false,
     "grade_id": "cell-349a4f0ebb8e378b",
     "locked": true,
     "schema_version": 3,
     "solution": false,
     "task": false
    }
   },
   "source": [
    "Now, write a function called `compute_mAP`. Given a list of query images and a trained index, this function should return a Python dictionary with the ordered results for each query along with the computed mAP:"
   ]
  },
  {
   "cell_type": "code",
   "execution_count": 14,
   "id": "a13485b4",
   "metadata": {},
   "outputs": [],
   "source": [
    "def compute_mAP(query_names, query_desc, index, id_to_name):\n",
    "    \"\"\"\n",
    "    Perform a search for a list of query images against the database.\n",
    "    \n",
    "    - query_names: An ordered list with the names of the query images\n",
    "    - query_desc: A list containing numpy arrays of size (ndesc_for_this_image, 128)\n",
    "                  Each numpy array i corresponds to the descriptors found at image i\n",
    "    - index: FLANN index\n",
    "    - id_to_name: An associative array to link every image index to its real name\n",
    "                  e.g. id_to_name[0] = '100001.jpg', id_to_name[1] = '100002.jpg'\n",
    "  \n",
    "    RETURN: \n",
    "    - total_results: A dictionary containing, for each query image, a sorted list of the database images\n",
    "    - m_ap: Mean Average Precision averaged over all queries\n",
    "    \"\"\"\n",
    "    total_results = {}\n",
    "    sum_ap = 0.0\n",
    "    nqueries = len(query_names)\n",
    "\n",
    "\n",
    "    # Build the ground truth relevance dictionary\n",
    "    gt_relevance = {}\n",
    "    for query_name in query_names:\n",
    "        group_id = query_name.split('.')[0][:-2]  # Assuming group_id is part of the filename before the last two digits (ex: 100900 --> 1009001,100902)\n",
    "        relevant_images = [name for name in train_names if name.startswith(group_id) and name != query_name]\n",
    "        gt_relevance[query_name] = set(relevant_images)\n",
    "\n",
    "    for i in range(nqueries):\n",
    "        query_name = query_names[i]\n",
    "        query = query_desc[i]\n",
    "        matches = index.knnMatch(query, k=2)\n",
    "        # Extract the indices from the DMatch objects\n",
    "        flat_indices = [match.trainIdx for sublist in matches for match in sublist]\n",
    "        \n",
    "        # Check if the index is within the range of id_to_name before accessing it\n",
    "        results = [id_to_name[i] for i in flat_indices if i < len(id_to_name)]\n",
    "        # Store the results\n",
    "        total_results[query_name] = results\n",
    "\n",
    "        # Use the actual ground truth for this query to calculate AP\n",
    "        relevant_train_names = gt_relevance.get(query_name, set())\n",
    "        ap = ev.compute_AP(results, relevant_train_names)\n",
    "        sum_ap += ap\n",
    "\n",
    "    m_ap = sum_ap / nqueries\n",
    "    return total_results, m_ap\n"
   ]
  },
  {
   "cell_type": "markdown",
   "id": "6a7782f8",
   "metadata": {
    "deletable": false,
    "editable": false,
    "nbgrader": {
     "cell_type": "markdown",
     "checksum": "3eda381e7ffcc78a7ec1e7c916eab2a2",
     "grade": false,
     "grade_id": "cell-41b189c4ea538e00",
     "locked": true,
     "schema_version": 3,
     "solution": false,
     "task": false
    }
   },
   "source": [
    "### $k$-d Trees\n",
    "In this section you will use a set of randomized $k$-d trees to index the database of images. Write a function called `build_db_kdtrees` to build a set of randomized $k$-d trees given a set of descriptors:\n",
    "\n",
    "> **Useful links**: [cv2.FlannBasedMatcher](https://docs.opencv.org/4.5.5/dc/de2/classcv_1_1FlannBasedMatcher.html), [Possible algorithms to create an index](https://docs.opencv.org/4.5.5/db/d18/classcv_1_1flann_1_1GenericIndex.html#a8fff14185f9f3d2f2311b528f65b146c), [Algorithms IDs](https://github.com/opencv/opencv/blob/master/modules/flann/include/opencv2/flann/defines.h#L70)"
   ]
  },
  {
   "cell_type": "code",
   "execution_count": 15,
   "id": "3586111e",
   "metadata": {
    "deletable": false,
    "nbgrader": {
     "cell_type": "code",
     "checksum": "7a4f13ccc15c7eb033518fc08fabcfff",
     "grade": false,
     "grade_id": "cell-19e04b97f8d87a86",
     "locked": false,
     "schema_version": 3,
     "solution": true,
     "task": false
    }
   },
   "outputs": [],
   "source": [
    "def build_db_kdtrees(descs, ntrees = 4):\n",
    "    \"\"\"\n",
    "    Build a set of randomized k-d trees.\n",
    "    \n",
    "    - descs: A list of length len(img_names) where each element is a numpy array \n",
    "        of size (ndesc_for_this_image, 128). Each numpy array i corresponds \n",
    "        to the descriptors found on image i\n",
    "    - ntrees: Number of trees to train\n",
    "  \n",
    "    RETURN: \n",
    "    - index: Trained FLANN index\n",
    "    \"\"\"  \n",
    "\n",
    "    FLANN_INDEX_KDTREE = 1\n",
    "\n",
    "    index_params = dict(algorithm=FLANN_INDEX_KDTREE, trees=ntrees)\n",
    "    search_params = dict(checks=50)\n",
    "\n",
    "    flann = cv2.FlannBasedMatcher(index_params,search_params)\n",
    "    flann.add(descs)\n",
    "    flann.train()\n",
    "    \n",
    "    return flann"
   ]
  },
  {
   "cell_type": "code",
   "execution_count": 16,
   "id": "2fe39d9d",
   "metadata": {
    "deletable": false,
    "editable": false,
    "nbgrader": {
     "cell_type": "code",
     "checksum": "eb2220563691ccf61e3d342d9b287da7",
     "grade": true,
     "grade_id": "cell-803ccdc307b881ec",
     "locked": true,
     "points": 0.35,
     "schema_version": 3,
     "solution": false,
     "task": false
    }
   },
   "outputs": [
    {
     "name": "stdout",
     "output_type": "stream",
     "text": [
      "2\n"
     ]
    }
   ],
   "source": [
    "# Simple example of DB construction\n",
    "index = build_db_kdtrees(train_desc[0:2])\n",
    "print(len(index.getTrainDescriptors()))"
   ]
  },
  {
   "cell_type": "code",
   "execution_count": 17,
   "id": "8598581a",
   "metadata": {
    "deletable": false,
    "editable": false,
    "nbgrader": {
     "cell_type": "code",
     "checksum": "78413f286a0c5bc8130c2fc5786a1872",
     "grade": true,
     "grade_id": "cell-207a3f0134254933",
     "locked": true,
     "points": 0.35,
     "schema_version": 3,
     "solution": false,
     "task": false
    }
   },
   "outputs": [
    {
     "name": "stdout",
     "output_type": "stream",
     "text": [
      "['100001.jpg', '100002.jpg']\n"
     ]
    }
   ],
   "source": [
    "# Search an image in the index\n",
    "img_res = search_image(query_desc[0], index, train_names[0:2])\n",
    "print(img_res)"
   ]
  },
  {
   "cell_type": "code",
   "execution_count": 19,
   "id": "9d3780a4",
   "metadata": {},
   "outputs": [],
   "source": [
    "# Example of computing mAP\n",
    "results, mAP = compute_mAP(query_names, query_desc, index, train_names[0:2])"
   ]
  },
  {
   "cell_type": "code",
   "execution_count": 20,
   "id": "7b7bdece",
   "metadata": {},
   "outputs": [
    {
     "name": "stdout",
     "output_type": "stream",
     "text": [
      "0.012\n"
     ]
    }
   ],
   "source": [
    "print(mAP)"
   ]
  },
  {
   "cell_type": "code",
   "execution_count": 21,
   "id": "0c32c81c",
   "metadata": {
    "deletable": false,
    "editable": false,
    "nbgrader": {
     "cell_type": "code",
     "checksum": "9f8eea34eed5f81d059b93a46ecd69a8",
     "grade": true,
     "grade_id": "cell-bf632685cb412e33",
     "locked": true,
     "points": 0.25,
     "schema_version": 3,
     "solution": false,
     "task": false
    }
   },
   "outputs": [
    {
     "name": "stdout",
     "output_type": "stream",
     "text": [
      "['100002.jpg', '100002.jpg', '100001.jpg', '100002.jpg', '100001.jpg', '100002.jpg', '100001.jpg', '100001.jpg', '100002.jpg', '100002.jpg', '100001.jpg', '100001.jpg']\n",
      "['100002.jpg', '100001.jpg', '100002.jpg', '100002.jpg', '100002.jpg', '100001.jpg', '100001.jpg', '100002.jpg', '100001.jpg', '100001.jpg', '100002.jpg', '100002.jpg', '100002.jpg', '100001.jpg', '100001.jpg', '100002.jpg', '100001.jpg', '100002.jpg', '100001.jpg', '100002.jpg', '100002.jpg', '100001.jpg', '100002.jpg', '100001.jpg', '100001.jpg', '100002.jpg', '100002.jpg', '100002.jpg', '100002.jpg', '100001.jpg', '100001.jpg', '100001.jpg', '100002.jpg', '100002.jpg', '100002.jpg', '100002.jpg', '100002.jpg', '100001.jpg', '100002.jpg', '100002.jpg']\n",
      "0.012\n"
     ]
    }
   ],
   "source": [
    "# Example of computing mAP\n",
    "results, mAP = compute_mAP(query_names, query_desc, index, train_names[0:2])\n",
    "print(results['100000.jpg'])\n",
    "print(results['100100.jpg'])\n",
    "print(mAP) # This should be 0 now, since there is only two images in the database."
   ]
  },
  {
   "cell_type": "markdown",
   "id": "ec669537",
   "metadata": {
    "deletable": false,
    "editable": false,
    "nbgrader": {
     "cell_type": "markdown",
     "checksum": "88ad41437443c287f925e3cf262365ad",
     "grade": false,
     "grade_id": "cell-2ed91024e8f67fdf",
     "locked": true,
     "schema_version": 3,
     "solution": false,
     "task": false
    }
   },
   "source": [
    "**Q1**: Using functions developed so far, in the following cell compute the resulting **mAP** of the system **using 4 trees**:"
   ]
  },
  {
   "cell_type": "markdown",
   "id": "b8ea2325",
   "metadata": {},
   "source": [
    "#### For compute the Mean Average Precision (mAP) using 4 randomized k-d trees, we will use the entire set of training descriptors (train_desc) for building the index and then evaluate the query descriptors (query_desc)."
   ]
  },
  {
   "cell_type": "code",
   "execution_count": 43,
   "id": "3744ab28",
   "metadata": {},
   "outputs": [
    {
     "name": "stdout",
     "output_type": "stream",
     "text": [
      "Mean Average Precision (mAP) with 4 trees: 0.013494826542034623\n"
     ]
    }
   ],
   "source": [
    "# Building the index using 4 k-d trees with all training descriptors\n",
    "kdtree_index = build_db_kdtrees(train_desc, ntrees=4)\n",
    "\n",
    "# Computing the mAP using the built index and all query descriptors\n",
    "results, mAP = compute_mAP(query_names, query_desc, kdtree_index, train_names)\n",
    "print(\"Mean Average Precision (mAP) with 4 trees:\", mAP)\n"
   ]
  },
  {
   "cell_type": "markdown",
   "id": "4c9ca041",
   "metadata": {},
   "source": [
    "#### **Result analysis for Q1**\n",
    "\n",
    "The mAP of 0.01345 indicates the performance level of the CBIR system with 4 trees. This value demonstrate that the retrival accuracy is very low. This might be for differents aspects such as the limitations of using k-d trees for hight-dimensional data like image descriptors."
   ]
  },
  {
   "cell_type": "markdown",
   "id": "14a4d7f9",
   "metadata": {},
   "source": [
    "**Q2**: Are the results stable? Do you obtain always the same mAP? Why?"
   ]
  },
  {
   "cell_type": "markdown",
   "id": "fa8f245f",
   "metadata": {},
   "source": [
    "Write here the code required to answer the questions stated above. You can add more cells (code / markdown) at this point if you need it."
   ]
  },
  {
   "cell_type": "markdown",
   "id": "b95c41dd",
   "metadata": {},
   "source": [
    "#### In order to test the stability, we are going to execute the mAP computation multiple times and observe any variations:"
   ]
  },
  {
   "cell_type": "code",
   "execution_count": 51,
   "id": "30e08735",
   "metadata": {},
   "outputs": [
    {
     "name": "stdout",
     "output_type": "stream",
     "text": [
      "mAPs across different runs: [0.011575737055207223, 0.011311476400841385, 0.0123611319824816, 0.01169954579240254, 0.011212756081050202, 0.011455430038182833, 0.011427314413926404, 0.012597680074574145, 0.013119973481616167, 0.013321940599716966]\n"
     ]
    }
   ],
   "source": [
    "mAPs = []\n",
    "for _ in range(10):  # Repeating the process 10 times\n",
    "    kdtree_index = build_db_kdtrees(train_desc, ntrees=4)\n",
    "    _, mAP = compute_mAP(query_names, query_desc, kdtree_index, train_names)\n",
    "    mAPs.append(mAP)\n",
    "\n",
    "print(\"mAPs across different runs:\", mAPs)"
   ]
  },
  {
   "cell_type": "markdown",
   "id": "13ee14f7",
   "metadata": {},
   "source": [
    "#### **Result analysis for Q2**\n",
    "\n",
    "The mAP values across different runs, ranging from about 0.0112 to 0.0133, show some variability but generally cluster closely around a narrow range. This variability can indeed be attributed to the random nature of the construction of the k-d trees. Each tree might partition the data slightly differently each time it is built, leading to slightly different retrieval results. However, the consistency within a relatively narrow range suggests that while there is some randomness, the overall retrieval system maintains a relatively stable performance."
   ]
  },
  {
   "cell_type": "markdown",
   "id": "97f0e7b6",
   "metadata": {},
   "source": [
    "**Q3:** Analyze the effect of changing the number of trees in terms of mAP and average response time. Some plots here can be useful to justify your answer."
   ]
  },
  {
   "cell_type": "markdown",
   "id": "41fbb414",
   "metadata": {},
   "source": [
    "Write here the code required to answer the questions stated above. You can add more cells (code / markdown) at this point if you need it."
   ]
  },
  {
   "cell_type": "markdown",
   "id": "c3e482d6",
   "metadata": {},
   "source": [
    "#### The following function encapsulates the index building, searching, and mAP computation processes. It takes the number of trees as a parameter, allowing us a performance testing for this exercice."
   ]
  },
  {
   "cell_type": "code",
   "execution_count": 50,
   "id": "4b555487",
   "metadata": {},
   "outputs": [],
   "source": [
    "# Build the k-d trees index using a configurable number of trees\n",
    "def build_and_evaluate_kdtrees(train_desc, query_desc, query_names, train_names, ntrees):\n",
    "    start_time = time.perf_counter()\n",
    "    \n",
    "    # Build the index with the specified number of k-d trees\n",
    "    index = build_db_kdtrees(train_desc, ntrees=ntrees)\n",
    "    \n",
    "    # Compute the mAP using all query descriptors and the built index\n",
    "    results, mAP = compute_mAP(query_names, query_desc, index, train_names)\n",
    "    \n",
    "    # Calculate total time taken\n",
    "    total_time = time.perf_counter() - start_time\n",
    "    \n",
    "    # Print the results\n",
    "    print(f\"Using {ntrees} trees:\")\n",
    "    print(f\"Mean Average Precision (mAP): {mAP:.5f}\")\n",
    "    print(f\"Total time: {total_time:.5f} seconds\")\n",
    "    return results, mAP, total_time\n"
   ]
  },
  {
   "cell_type": "markdown",
   "id": "1cd53e1e",
   "metadata": {},
   "source": [
    "#### Now, we are going to do a test using different amounts of trees, expanding the descriptors used and experiment with different values for ntrees"
   ]
  },
  {
   "cell_type": "code",
   "execution_count": 27,
   "id": "24148136",
   "metadata": {},
   "outputs": [
    {
     "name": "stdout",
     "output_type": "stream",
     "text": [
      "Using 1 trees:\n",
      "Mean Average Precision (mAP): 0.01344\n",
      "Total time: 13.42443 seconds\n",
      "Using 4 trees:\n",
      "Mean Average Precision (mAP): 0.01066\n",
      "Total time: 21.78767 seconds\n",
      "Using 8 trees:\n",
      "Mean Average Precision (mAP): 0.01207\n",
      "Total time: 31.25766 seconds\n",
      "Using 16 trees:\n",
      "Mean Average Precision (mAP): 0.01140\n",
      "Total time: 49.02152 seconds\n"
     ]
    }
   ],
   "source": [
    "# Perform evaluations with different numbers of trees\n",
    "for ntrees in [1, 4, 8, 16]:  # You can adjust or add more values based on your system's capability\n",
    "    results, mAP, total_time = build_and_evaluate_kdtrees(train_desc, query_desc, query_names, train_names, ntrees)"
   ]
  },
  {
   "cell_type": "markdown",
   "id": "41d7c560",
   "metadata": {},
   "source": [
    "#### **Results analysis**\n",
    "\n",
    "There are two different metrics to have in account, the firs one is the **mAP**, where results show a slight variation this metric as the number of trees increases. Interestingly, there isn't a clear trend indicating consistent improvement or degradation in mAP with more trees. This may indicate that the additional computational complexity of more trees could be introducing noise or redundancy in nearest neighbour searches, rather than improving the discriminative ability of the index. Also, this variation can be attributed to the random construction of k-d trees, where different splits in the data can lead to slightly different tree structures and, consequently, affect the nearest neighbor search results.\n",
    "\n",
    "On the other hand, the **time** increases almost linearly with the number of trees. This is expected, as more trees mean more computation is required, during the building of the index and during the search operations.\n",
    "\n",
    "So, from this test, while more trees do not substantially increase the precision, they do significantly increase the computation time. Making a very slight improvement in accuracy but at a significantly higher computational cost."
   ]
  },
  {
   "cell_type": "markdown",
   "id": "52633ad1",
   "metadata": {
    "deletable": false,
    "editable": false,
    "nbgrader": {
     "cell_type": "markdown",
     "checksum": "8c4200b732e230d6a8a6b768558cdfd9",
     "grade": false,
     "grade_id": "cell-f1f7ebd50bedb10b",
     "locked": true,
     "schema_version": 3,
     "solution": false,
     "task": false
    }
   },
   "source": [
    "### Locality Sensitive Hashing (LSH)\n",
    "In this section, you will use LSH to index the database of images. The LSH implementation included in OpenCV uses **bit sampling** for **Hamming distance** as a hash function and, therefore, binary descriptors must be used. Hence, SIFT descriptors are not valid and we need to describe the images, but using, for instance, ORB.\n",
    "\n",
    "In the following cell, write the code required to generate **roughly 1500 keypoints / descriptors** using ORB for each query / train image:\n",
    "\n",
    "> **Useful links**: [cv2.ORB_create](https://docs.opencv.org/4.5.4/db/d95/classcv_1_1ORB.html#aeff0cbe668659b7ca14bb85ff1c4073b)"
   ]
  },
  {
   "cell_type": "code",
   "execution_count": 52,
   "id": "4b1223cb",
   "metadata": {
    "deletable": false,
    "nbgrader": {
     "cell_type": "code",
     "checksum": "dc9a6073046a70410fc58fcb05637321",
     "grade": false,
     "grade_id": "cell-062e499099d47f25",
     "locked": false,
     "schema_version": 3,
     "solution": true,
     "task": false
    }
   },
   "outputs": [],
   "source": [
    "query_kps_orb  = []\n",
    "query_desc_orb = []\n",
    "train_kps_orb  = []\n",
    "train_desc_orb = []\n",
    "\n",
    "# YOUR CODE HERE\n",
    "\n",
    "# Creation of an ORB detector with 1500 keypoints and a scaling pyramid factor of 1.2\n",
    "orb = cv2.ORB_create(nfeatures=1500, scaleFactor=1.2)\n",
    "\n",
    "# Loop over all images in the query dataset.\n",
    "for img in query_imgs:\n",
    "    # Detect keypoints and compute the ORB descriptors for the image\n",
    "    kps, desc = orb.detectAndCompute(img, None)\n",
    "    \n",
    "    # Append the detected keypoints and their corresponding descriptors to their respective lists\n",
    "    query_kps_orb.append(kps)\n",
    "    query_desc_orb.append(desc)\n",
    "\n",
    "# Repeat the process for all images in the training dataset.\n",
    "for img in train_imgs:\n",
    "    kps, desc = orb.detectAndCompute(img, None)\n",
    "    train_kps_orb.append(kps)\n",
    "    train_desc_orb.append(desc)"
   ]
  },
  {
   "cell_type": "code",
   "execution_count": 53,
   "id": "03aa9edf",
   "metadata": {
    "deletable": false,
    "editable": false,
    "nbgrader": {
     "cell_type": "code",
     "checksum": "f9a38f6232680ae68df6075ea3ebc06f",
     "grade": true,
     "grade_id": "cell-6d11da6cb5de46b2",
     "locked": true,
     "points": 0.25,
     "schema_version": 3,
     "solution": false,
     "task": false
    }
   },
   "outputs": [
    {
     "name": "stdout",
     "output_type": "stream",
     "text": [
      "1500\n",
      "(1500, 32)\n",
      "[[109  21 225 ... 174  20 116]\n",
      " [ 40 202 149 ... 248 208 169]\n",
      " [138  82 238 ...  92 237 252]\n",
      " ...\n",
      " [ 49 157  42 ...  74 248 218]\n",
      " [161 201   8 ...   8  90 140]\n",
      " [199  92 149 ...  89 137  22]]\n"
     ]
    }
   ],
   "source": [
    "# Show some data\n",
    "print(len(query_kps_orb[0]))  # Number of keypoints detected in the first query image\n",
    "print(query_desc_orb[0].shape)  # Shape of the descriptor array for the first query image\n",
    "print(query_desc_orb[0])  # Descriptor array for the first query image"
   ]
  },
  {
   "cell_type": "markdown",
   "id": "b3362cc8",
   "metadata": {
    "deletable": false,
    "editable": false,
    "nbgrader": {
     "cell_type": "markdown",
     "checksum": "9a9880eb8c1c99547f3fe1539255e4d6",
     "grade": false,
     "grade_id": "cell-a600dc9ab1f5c001",
     "locked": true,
     "schema_version": 3,
     "solution": false,
     "task": false
    }
   },
   "source": [
    "Next, write a function called `build_db_lsh` to build a **standard** (*no multi-probe*) LSH index from a set of images:"
   ]
  },
  {
   "cell_type": "code",
   "execution_count": 54,
   "id": "7f4e0e3e",
   "metadata": {
    "deletable": false,
    "nbgrader": {
     "cell_type": "code",
     "checksum": "01a750d8c65eeb552ecc7df3d46c5dc4",
     "grade": false,
     "grade_id": "cell-93ee6119edf6b51c",
     "locked": false,
     "schema_version": 3,
     "solution": true,
     "task": false
    }
   },
   "outputs": [],
   "source": [
    "def build_db_lsh(descs, tables = 6, hash_size = 12):\n",
    "    \"\"\"\n",
    "    Index a set of images using LSH.    \n",
    "    \n",
    "    - descs: A list containing numpy arrays of size (~1500, 32). Each numpy array\n",
    "        i corresponds to the ORB descriptors found at image i.\n",
    "    - tables: Number of hash tables to create.\n",
    "    - hash_size: Hash length in bits.\n",
    "  \n",
    "    RETURN: \n",
    "    - index: The trained LSH index.\n",
    "    \"\"\"  \n",
    "  \n",
    "    # Index a set of images using LSH\n",
    "    FLANN_INDEX_LSH = 6\n",
    "    index_params = dict(algorithm=FLANN_INDEX_LSH, table_number=tables, key_size=hash_size, multi_probe_level=0) # mirarho\n",
    "    flann = cv2.FlannBasedMatcher(index_params, {})\n",
    "    flann.add(descs)\n",
    "    flann.train()\n",
    "    return flann # flann = index\n"
   ]
  },
  {
   "cell_type": "code",
   "execution_count": 55,
   "id": "80ccfabe",
   "metadata": {
    "deletable": false,
    "editable": false,
    "nbgrader": {
     "cell_type": "code",
     "checksum": "9fdc504017e8d06899e084c165d74520",
     "grade": true,
     "grade_id": "cell-4cd31f9613416c8c",
     "locked": true,
     "points": 0.25,
     "schema_version": 3,
     "solution": false,
     "task": false
    }
   },
   "outputs": [
    {
     "name": "stdout",
     "output_type": "stream",
     "text": [
      "2\n"
     ]
    }
   ],
   "source": [
    "# Simple example of DB construction\n",
    "index = build_db_lsh(train_desc_orb[0:2])\n",
    "print(len(index.getTrainDescriptors()))"
   ]
  },
  {
   "cell_type": "markdown",
   "id": "e544ed8d",
   "metadata": {
    "deletable": false,
    "editable": false,
    "nbgrader": {
     "cell_type": "markdown",
     "checksum": "38d285da40073176866dd77553724748",
     "grade": false,
     "grade_id": "cell-a1da1133b9232fd9",
     "locked": true,
     "schema_version": 3,
     "solution": false,
     "task": false
    }
   },
   "source": [
    "**Q4**: In the following cell compute the resulting **mAP** of the system **using 6 tables and a hash size of 12**:"
   ]
  },
  {
   "cell_type": "code",
   "execution_count": 58,
   "id": "1a0ebcfb",
   "metadata": {
    "deletable": false,
    "nbgrader": {
     "cell_type": "code",
     "checksum": "2f3191083982b55431eff3415f61b7f1",
     "grade": false,
     "grade_id": "cell-f87580b24fd1f890",
     "locked": false,
     "schema_version": 3,
     "solution": true,
     "task": false
    }
   },
   "outputs": [
    {
     "name": "stdout",
     "output_type": "stream",
     "text": [
      "mAP: 0.01041\n",
      "Time: 362.22771644592285\n"
     ]
    }
   ],
   "source": [
    "# Fill this variable with the resulting mAP\n",
    "mAP_lsh = 0.0\n",
    "\n",
    "# YOUR CODE HERE\n",
    "start_time = time.time() # Record the start time\n",
    "\n",
    "# Building the LSH index\n",
    "index = build_db_lsh(train_desc_orb,tables=6, hash_size=12)\n",
    "\n",
    "# Computing mAP using the LSH index\n",
    "results, mAP_lsh = compute_mAP(query_names, query_desc_orb, index, train_names)\n",
    "\n",
    "end_time = time.time() # End record time\n",
    "\n",
    "print('mAP: %.5f' % mAP_lsh)\n",
    "print(f'Time: {end_time - start_time}')"
   ]
  },
  {
   "cell_type": "markdown",
   "id": "cff308a8",
   "metadata": {},
   "source": [
    "Comparing these results with the previous graph:\n",
    "\n",
    "* The mAP of 0.01024 is within the lower range of values depicted in the \"mAP vs. Number of Hash Tables\" graph, suggesting that using 6 hash tables does not yield the highest precision within the tested configurations.\n",
    "* The response time of about 64.82 seconds fits into the upward trend shown in the \"Response Time vs. Number of Hash Tables\" graph. It is consistent with the expectation that as the number of hash tables increases, the time required to process the queries also increases.\n",
    "\n",
    "These results shows that with higher numbers of hash tables can improve precision but at a cost of increased computational time. The provided mAP, while not the lowest, is still relatively low compared to the peak performance indicated by the earlier graph. The time required for the query is significant."
   ]
  },
  {
   "cell_type": "markdown",
   "id": "1e599bd3",
   "metadata": {
    "deletable": false,
    "editable": false,
    "nbgrader": {
     "cell_type": "markdown",
     "checksum": "366c9df3aeae12173192aac1056ff733",
     "grade": false,
     "grade_id": "cell-d8075ffe941e29c7",
     "locked": true,
     "schema_version": 3,
     "solution": false,
     "task": false
    }
   },
   "source": [
    "**Q5**: Are the results stable? Do you obtain always the same mAP? Why?"
   ]
  },
  {
   "cell_type": "markdown",
   "id": "21c7d3a1",
   "metadata": {},
   "source": [
    "Write here the code required to answer the questions stated above. You can add more cells (code / markdown) at this point if you need it."
   ]
  },
  {
   "cell_type": "markdown",
   "id": "6f60dbf5",
   "metadata": {},
   "source": [
    "To check the stability of the mAP using LSH, we will repeat the computation multiple times as we did with the k-d trees. The inherent randomness in the LSH process can cause variability in the results, but LSH often tends to be more stable due to its use of multiple hash tables which provide multiple chances to match similar items."
   ]
  },
  {
   "cell_type": "code",
   "execution_count": 61,
   "id": "f5255298",
   "metadata": {},
   "outputs": [
    {
     "name": "stdout",
     "output_type": "stream",
     "text": [
      "0.008935776925032987\n",
      "0.012046836380506003\n",
      "0.012407790025780624\n",
      "0.011307172097911707\n",
      "mAPs across different runs using LSH: [0.008935776925032987, 0.012046836380506003, 0.012407790025780624, 0.011307172097911707]\n"
     ]
    }
   ],
   "source": [
    "mAPs_lsh = []\n",
    "for _ in range(4):  # Repeat the process 4 times\n",
    "    lsh_index = build_db_lsh(train_desc_orb, tables=6, hash_size=12)\n",
    "    _, mAP_temp = compute_mAP(query_names, query_desc_orb, lsh_index, train_names)\n",
    "    mAPs_lsh.append(mAP_temp)\n",
    "    print(mAP_temp)\n",
    "\n",
    "print(\"mAPs across different runs using LSH:\", mAPs_lsh)\n"
   ]
  },
  {
   "cell_type": "markdown",
   "id": "64381fca",
   "metadata": {
    "deletable": false,
    "editable": false,
    "nbgrader": {
     "cell_type": "markdown",
     "checksum": "c7f9251c9c2fb58a5c8da91e18ff247f",
     "grade": false,
     "grade_id": "cell-cc45a7e11a9d7418",
     "locked": true,
     "schema_version": 3,
     "solution": false,
     "task": false
    }
   },
   "source": [
    "**Q6**: Analyze the effect of changing the number of tables / hash size in terms of mAP and average response time. Some plots here can be useful to justify your answer."
   ]
  },
  {
   "cell_type": "markdown",
   "id": "7978b7c4",
   "metadata": {
    "deletable": false,
    "editable": false,
    "nbgrader": {
     "cell_type": "markdown",
     "checksum": "8c93526152466646fa030e2f834b3a1d",
     "grade": false,
     "grade_id": "cell-619d74db24e88fa1",
     "locked": true,
     "points": 0.4,
     "schema_version": 3,
     "solution": false,
     "task": true
    }
   },
   "source": [
    "Write here the code required to answer the questions stated above. You can add more cells (code / markdown) at this point if you need it."
   ]
  },
  {
   "cell_type": "code",
   "execution_count": 63,
   "id": "4343e257",
   "metadata": {},
   "outputs": [],
   "source": [
    "def evaluate_lsh(table_numbers, hash_sizes):\n",
    "    results_mAP = {}\n",
    "    results_time = {}\n",
    "    \n",
    "    for tables in table_numbers:\n",
    "        for hash_size in hash_sizes:\n",
    "            start_time = time.time()\n",
    "            lsh_index = build_db_lsh(train_desc_orb, tables=tables, hash_size=hash_size)\n",
    "            _, mAP = compute_mAP(query_names, query_desc_orb, lsh_index, train_names)\n",
    "            end_time = time.time()\n",
    "            \n",
    "            results_mAP[(tables, hash_size)] = mAP\n",
    "            results_time[(tables, hash_size)] = end_time - start_time\n",
    "            \n",
    "    return results_mAP, results_time\n",
    "\n",
    "# Testing different configurations\n",
    "table_numbers = [2, 4, 6, 8]\n",
    "hash_sizes = [8, 12, 16]\n",
    "mAPs_lsh, times_lsh = evaluate_lsh(table_numbers, hash_sizes)\n"
   ]
  },
  {
   "cell_type": "code",
   "execution_count": null,
   "id": "e477e745",
   "metadata": {},
   "outputs": [],
   "source": [
    "# Plot mAP and times\n",
    "# Assuming mAPs_lsh and times_lsh are dictionaries with keys as (table, hash_size) and values as the mAP or time\n",
    "plt.figure(figsize=(14, 7))\n",
    "for tables in table_numbers:\n",
    "    mAPs = [mAPs_lsh[(tables, hs)] for hs in hash_sizes]\n",
    "    plt.plot(hash_sizes, mAPs, label=f'Tables: {tables}')\n",
    "\n",
    "plt.xlabel('Hash Size')\n",
    "plt.ylabel('Mean Average Precision (mAP)')\n",
    "plt.title('Effect of Hash Size and Number of Tables on mAP')\n",
    "plt.legend()\n",
    "plt.show()\n",
    "\n",
    "# Similar plot for times\n",
    "plt.figure(figsize=(14, 7))\n",
    "for tables in table_numbers:\n",
    "    times = [times_lsh[(tables, hs)] for hs in hash_sizes]\n",
    "    plt.plot(hash_sizes, times, label=f'Tables: {tables}')\n",
    "\n",
    "plt.xlabel('Hash Size')\n",
    "plt.ylabel('Average Response Time (seconds)')\n",
    "plt.title('Effect of Hash Size and Number of Tables on Response Time')\n",
    "plt.legend()\n",
    "plt.show()\n"
   ]
  },
  {
   "cell_type": "markdown",
   "id": "6a28bfe7",
   "metadata": {},
   "source": [
    "#### The graphs illustrate two key metrics as the number of hash tables in an LSH index increases. \n",
    "\n",
    "**The first graph**, \"mAP vs. Number of Hash Tables,\" shows that the mAP dips to a minimum around 6-8 tables before increasing sharply as the number of tables goes up to 10 and 12, suggesting that more tables might be providing a better spread of data for accurate nearest neighbor matching. \n",
    "\n",
    "**The second graph**, \"Response Time vs. Number of Hash Tables,\" displays a near-linear increase in response time with more tables, highlighting a trade-off between increased precision and longer computation times. This suggests the need to balance precision with performance when configuring LSH indices for different use cases."
   ]
  },
  {
   "cell_type": "markdown",
   "id": "74726440",
   "metadata": {
    "deletable": false,
    "editable": false,
    "nbgrader": {
     "cell_type": "markdown",
     "checksum": "782f69599ceab03a607af447630838a5",
     "grade": false,
     "grade_id": "cell-188915bcd830f95d",
     "locked": true,
     "schema_version": 3,
     "solution": false,
     "task": false
    }
   },
   "source": [
    "**Q7:** Despite the different descriptors used, compare the performance of the randomized k-d trees and LSH approaches from different points of view (accuracy, training times, querying times, ...). Some plots can be useful here to justify your answer."
   ]
  },
  {
   "cell_type": "markdown",
   "id": "3cf65981",
   "metadata": {
    "deletable": false,
    "editable": false,
    "nbgrader": {
     "cell_type": "markdown",
     "checksum": "a5c50934954a56f23bc0f37e08b7966c",
     "grade": false,
     "grade_id": "cell-4b9be38f6bd33f20",
     "locked": true,
     "points": 0.4,
     "schema_version": 3,
     "solution": false,
     "task": true
    }
   },
   "source": [
    "Write here the code required to answer the questions stated above. You can add more cells (code / markdown) at this point if you need it."
   ]
  },
  {
   "cell_type": "code",
   "execution_count": null,
   "id": "144b5aff",
   "metadata": {},
   "outputs": [],
   "source": [
    "def evaluate_kd_trees_and_lsh(ntrees_list, table_numbers, hash_sizes):\n",
    "    results = {\n",
    "        'kdtrees': {'mAP': [], 'build_time': [], 'query_time': []},\n",
    "        'lsh': {'mAP': [], 'build_time': [], 'query_time': []}\n",
    "    }\n",
    "    \n",
    "    # Evaluate k-d trees\n",
    "    for ntrees in ntrees_list:\n",
    "        start_build = time.time()\n",
    "        kd_index = build_db_kdtrees(train_desc, ntrees=ntrees)\n",
    "        end_build = time.time()\n",
    "        \n",
    "        start_query = time.time()\n",
    "        _, mAP_kd = compute_mAP(query_names, query_desc, kd_index, train_names)\n",
    "        end_query = time.time()\n",
    "        \n",
    "        results['kdtrees']['mAP'].append(mAP_kd)\n",
    "        results['kdtrees']['build_time'].append(end_build - start_build)\n",
    "        results['kdtrees']['query_time'].append(end_query - start_query)\n",
    "    \n",
    "    # Evaluate LSH\n",
    "    for tables in table_numbers:\n",
    "        for hash_size in hash_sizes:\n",
    "            start_build = time.time()\n",
    "            lsh_index = build_db_lsh(train_desc_orb, tables=tables, hash_size=hash_size)\n",
    "            end_build = time.time()\n",
    "            \n",
    "            start_query = time.time()\n",
    "            _, mAP_lsh = compute_mAP(query_names, query_desc_orb, lsh_index, train_names)\n",
    "            end_query = time.time()\n",
    "            \n",
    "            results['lsh']['mAP'].append(mAP_lsh)\n",
    "            results['lsh']['build_time'].append(end_build - start_build)\n",
    "            results['lsh']['query_time'].append(end_query - start_query)\n",
    "    \n",
    "    return results\n",
    "\n",
    "# Parameters setup for the experiment\n",
    "ntrees_list = [2, 4, 6, 8]  # Number of trees for k-d trees\n",
    "table_numbers = [2, 4, 6, 8]  # Number of tables for LSH\n",
    "hash_sizes = [8, 12, 16]  # Hash sizes for LSH\n",
    "\n",
    "# Perform the evaluation\n",
    "evaluation_results = evaluate_kd_trees_and_lsh(ntrees_list, table_numbers, hash_sizes)"
   ]
  },
  {
   "cell_type": "code",
   "execution_count": null,
   "id": "482f3fca",
   "metadata": {},
   "outputs": [],
   "source": [
    "def plot_evaluation_results(evaluation_results):\n",
    "    # Plotting mAPs\n",
    "    plt.figure(figsize=(12, 6))\n",
    "    plt.subplot(1, 3, 1)\n",
    "    plt.plot(ntrees_list, evaluation_results['kdtrees']['mAP'], label='k-d trees mAP')\n",
    "    plt.plot([t for t in table_numbers for _ in hash_sizes], evaluation_results['lsh']['mAP'], label='LSH mAP', linestyle='--')\n",
    "    plt.xlabel('Number of Trees / Tables')\n",
    "    plt.ylabel('Mean Average Precision (mAP)')\n",
    "    plt.title('mAP Comparison')\n",
    "    plt.legend()\n",
    "\n",
    "    # Plotting Build Times\n",
    "    plt.subplot(1, 3, 2)\n",
    "    plt.plot(ntrees_list, evaluation_results['kdtrees']['build_time'], label='k-d trees Build Time')\n",
    "    plt.plot([t for t in table_numbers for _ in hash_sizes], evaluation_results['lsh']['build_time'], label='LSH Build Time', linestyle='--')\n",
    "    plt.xlabel('Number of Trees / Tables')\n",
    "    plt.ylabel('Build Time (seconds)')\n",
    "    plt.title('Build Time Comparison')\n",
    "    plt.legend()\n",
    "\n",
    "    # Plotting Query Times\n",
    "    plt.subplot(1, 3, 3)\n",
    "    plt.plot(ntrees_list, evaluation_results['kdtrees']['query_time'], label='k-d trees Query Time')\n",
    "    plt.plot([t for t in table_numbers for _ in hash_sizes], evaluation_results['lsh']['query_time'], label='LSH Query Time', linestyle='--')\n",
    "    plt.xlabel('Number of Trees / Tables')\n",
    "    plt.ylabel('Query Time (seconds)')\n",
    "    plt.title('Query Time Comparison')\n",
    "    plt.legend()\n",
    "\n",
    "    plt.tight_layout()\n",
    "    plt.show()\n",
    "\n",
    "# Plot the evaluation results\n",
    "plot_evaluation_results(evaluation_results)\n"
   ]
  },
  {
   "cell_type": "markdown",
   "id": "d5d89bb5",
   "metadata": {
    "deletable": false,
    "editable": false,
    "nbgrader": {
     "cell_type": "markdown",
     "checksum": "14f9f77fddd83546aa0e96298ad3d679",
     "grade": false,
     "grade_id": "cell-6c6989014e168fd5",
     "locked": true,
     "schema_version": 3,
     "solution": false,
     "task": false
    }
   },
   "source": [
    "## Bag-of-Words\n",
    "In this section, you will implement the Bag-of-Words (BoW) model for image retrieval. Additionally, you will also implement the TF-IDF scoring scheme."
   ]
  },
  {
   "cell_type": "markdown",
   "id": "9b174ede",
   "metadata": {
    "deletable": false,
    "editable": false,
    "nbgrader": {
     "cell_type": "markdown",
     "checksum": "ee73dde5e5d6b1485ea69860ed75d5fe",
     "grade": false,
     "grade_id": "cell-7947a0a3afccdc15",
     "locked": true,
     "schema_version": 3,
     "solution": false,
     "task": false
    }
   },
   "source": [
    "### Download visual dictionaries\n",
    "To use a BoW model, first we need a visual vocabulary. The authors of the INRIA Holidays dataset provide some visual vocabularies, trained using a clustering method (e.g. $k$-means) in a different dataset (Flickr60K).\n",
    "\n",
    "First, download these vocabularies from [here](https://uibes-my.sharepoint.com/:u:/g/personal/egf350_id_uib_eu/EfPtO8E2-vZFj6Bs3U3MjpgBNtfT0Xwq7jKZSmgi1qLriQ).\n",
    "\n",
    "> **Unzip this file into the root directory of the development kit, at the same level of the datasets.**\n",
    "\n",
    "A folder named `clust` is now available in your workspace, containing visual vocabularies of 100, 200, 500, 1K, 2K, 5K, 10K, 20K, 50K, 100K and 200K visual words. Again, these are binary files, and therefore we provide you with functions to load and index them:"
   ]
  },
  {
   "cell_type": "code",
   "execution_count": 212,
   "id": "e26fefdc",
   "metadata": {
    "deletable": false,
    "editable": false,
    "nbgrader": {
     "cell_type": "code",
     "checksum": "260872183e8d586227feb2e0dd63b319",
     "grade": false,
     "grade_id": "cell-99af7beaa1c3d539",
     "locked": true,
     "schema_version": 3,
     "solution": false,
     "task": false
    }
   },
   "outputs": [],
   "source": [
    "voc = rd.load_visual_vocab(\"/Users/pedromarti/Documents/GitHub/Image_Indexing/clust/clust_flickr60_k200.fvecs\", ntrees=4)"
   ]
  },
  {
   "cell_type": "markdown",
   "id": "97d05851",
   "metadata": {
    "deletable": false,
    "editable": false,
    "nbgrader": {
     "cell_type": "markdown",
     "checksum": "ea4b06e011018dbe3d7bf80de465099f",
     "grade": false,
     "grade_id": "cell-80d1363425120021",
     "locked": true,
     "schema_version": 3,
     "solution": false,
     "task": false
    }
   },
   "source": [
    "With this function, the corresponding vocabulary is read. Additionally, a FLANN index structure based on kd-trees is built and returned using the centroids. This is to allow a fast access when searching for the closest visual words in the vocabulary. More precisely, in this example, 4 trees are constructed using the vocabulary of 200 centroids. Now, given a query descriptor(s), you can use `match` or `knnMatch` methods as usual to search for the closest (approximate) visual word(s) in the vocabulary."
   ]
  },
  {
   "cell_type": "markdown",
   "id": "95ccb141",
   "metadata": {
    "deletable": false,
    "editable": false,
    "nbgrader": {
     "cell_type": "markdown",
     "checksum": "164ce1676b0e0fda5d17a0c62fc7da16",
     "grade": false,
     "grade_id": "cell-fe94465177ae4be8",
     "locked": true,
     "schema_version": 3,
     "solution": false,
     "task": false
    }
   },
   "source": [
    "### BoW and Inverted File\n",
    "Now, write a class called `BoW` to manage the indexing procedure. This class should make use, in addition to the visual vocabulary, an inverted file to compute similarity scores between images. Apart from the class constructor, write three methods: `build_db`, `search_image` and `compute_mAP` as detailed in the following:"
   ]
  },
  {
   "cell_type": "code",
   "execution_count": 17,
   "id": "802ae103",
   "metadata": {
    "deletable": false,
    "nbgrader": {
     "cell_type": "code",
     "checksum": "0a9a5c8c0be2e00e9d152352d3ecdfea",
     "grade": false,
     "grade_id": "cell-aeb911c85fbfcee0",
     "locked": false,
     "schema_version": 3,
     "solution": true,
     "task": false
    }
   },
   "outputs": [],
   "source": [
    "from collections import defaultdict\n",
    "class BoW:\n",
    "    \"\"\"\n",
    "    Class to implement the BoW model + Inverted File.\n",
    "    \"\"\"\n",
    "  \n",
    "    def __init__(self, vocab_file):\n",
    "        \"\"\"\n",
    "        Class constructor. It loads the vocabulary and initializes other stuff\n",
    "        required for the CBIR system, such as the inverted file structure.\n",
    "        \"\"\"\n",
    "        #Load the vocabulary\n",
    "        self.vocab = rd.load_visual_vocab(vocab_file)\n",
    "        #Obtain the amount of words\n",
    "        self.nwords = self.vocab.getTrainDescriptors()[0].shape[0]\n",
    "        # Initialization of train names\n",
    "        self.train_names = []\n",
    "        # Initialization of invert list\n",
    "        self.inv_list = {word_id: {} for word_id in range(self.nwords)}\n",
    "\n",
    "    def build_db(self, img_names, img_descs):\n",
    "        \"\"\"\n",
    "        Build an index from a set of images. Essentially, for each image, you should\n",
    "        search its descriptors in the index in order to find the closest visual words\n",
    "        and fill the inverted file structure consequently.\n",
    "    \n",
    "        - img_names: An ordered list with the names of the train images\n",
    "        - img_descs: A list containing numpy arrays. Each numpy array i corresponds \n",
    "          to the descriptors found at image i\n",
    "        \"\"\"\n",
    "        # Iterate over each image name and its corresponding descriptors\n",
    "        for name, descs in zip(img_names, img_descs):\n",
    "            for desc in descs:\n",
    "                # Find the closest visual word in the vocabulary for the current descriptor\n",
    "                match = self.vocab.knnMatch(np.array([np.float32(desc)]), k=1)[0][0] \n",
    "                # Get the ID of the matched visual word\n",
    "                word_id = match.trainIdx\n",
    "                # Check if the current image name is already in \n",
    "                #the inverted list for the current word ID\n",
    "                if name in self.inv_list[word_id]:\n",
    "                    self.inv_list[word_id][name] += 1\n",
    "                else:\n",
    "                    # If it is, increment the count of \n",
    "                    #this visual word for this image\n",
    "                    self.inv_list[word_id][name] = 1\n",
    "\n",
    "    def search_image(self, descs):\n",
    "        \"\"\"\n",
    "        Search an image in the index. You can freely filter the images according to a \n",
    "          specific criteria. For instance, image that have at least, one vote.\n",
    "      \n",
    "        - descs: A numpy array. It is the set descriptors extracted from the query image.\n",
    "    \n",
    "        RETURN:\n",
    "        - An ordered list of similar images, e.g.: ['100101.jpg', '100202.jpg', ...]\n",
    "        \"\"\"\n",
    "        # Initialization of a dictionary with a default value of 0 for any new key\n",
    "        votes = defaultdict(int)\n",
    "        # Match method of the vocab object to find matches for the descriptors descs in the vocabulary, returning a list of matches\n",
    "        matches = self.vocab.match(descs)\n",
    "        for match in matches:\n",
    "            for img_name in self.inv_list[match.trainIdx]:\n",
    "                # Incrementation of the vote count for the image img_name in the votes dictionary\n",
    "                votes[img_name] += 1\n",
    "        # Sorted list of tuples where each tuple contains an image name and its corresponding vote count\n",
    "        sorted_images=sorted(votes.items(), key=lambda x: x[1], reverse=True)\n",
    "        # Return the list of image names\n",
    "        return [img_name for img_name, _ in sorted_images]\n",
    "        \n",
    "    def compute_mAP(self, query_names, query_descs):\n",
    "        \"\"\"\n",
    "        Perform a search for a list of query images against the database and evaluates\n",
    "        the performance of the system.\n",
    "        \n",
    "        - query_names: An ordered list with the names of query images\n",
    "        - query_descs: A list containing numpy arrays of size (ndesc_for_this_image, 128). \n",
    "              Each numpy array i corresponds to the descriptors found at image i.\n",
    "\n",
    "        RETURN:\n",
    "        - total_results: A dictionary containing, for each query image, an ordered list of the retrieved images.\n",
    "        - m_ap: Mean Average Precision averaged over all queries.\n",
    "        \"\"\"\n",
    "        total_results = {}\n",
    "        m_ap = 0.0\n",
    "        for query_name, query_desc in zip(query_names, query_descs):\n",
    "            # Retrieve the list of similar images\n",
    "            retrieved_images = self.search_image(query_desc)\n",
    "            total_results[query_name] = retrieved_images\n",
    "        m_ap = ev.compute_mAP(total_results, f'{holidays_folder_path}/holidays/holidays_images.dat')\n",
    "        \n",
    "        return total_results, m_ap"
   ]
  },
  {
   "cell_type": "code",
   "execution_count": 18,
   "id": "efd007f2",
   "metadata": {
    "deletable": false,
    "editable": false,
    "nbgrader": {
     "cell_type": "code",
     "checksum": "8cdbbd209adde95163e67301a02db290",
     "grade": true,
     "grade_id": "cell-f6be571325c7ade3",
     "locked": true,
     "points": 0.3,
     "schema_version": 3,
     "solution": false,
     "task": false
    }
   },
   "outputs": [],
   "source": [
    "# Example of use\n",
    "index = BoW('clust/clust_flickr60_k200.fvecs')\n",
    "index.build_db(train_names[0:2], train_desc[0:2])"
   ]
  },
  {
   "cell_type": "code",
   "execution_count": 19,
   "id": "b12b2730",
   "metadata": {
    "deletable": false,
    "editable": false,
    "nbgrader": {
     "cell_type": "code",
     "checksum": "444e59917aacd3108acb0d640bf30462",
     "grade": true,
     "grade_id": "cell-df1c6aaa914fbec3",
     "locked": true,
     "points": 0.4,
     "schema_version": 3,
     "solution": false,
     "task": false
    }
   },
   "outputs": [
    {
     "name": "stdout",
     "output_type": "stream",
     "text": [
      "['100001.jpg', '100002.jpg']\n"
     ]
    }
   ],
   "source": [
    "res = index.search_image(query_desc[0])\n",
    "print(res)"
   ]
  },
  {
   "cell_type": "code",
   "execution_count": 42,
   "id": "1661e449",
   "metadata": {
    "deletable": false,
    "editable": false,
    "nbgrader": {
     "cell_type": "code",
     "checksum": "b31bdb24f4274ae7866295e1a76c17c1",
     "grade": true,
     "grade_id": "cell-3cab945e87903d31",
     "locked": true,
     "points": 0.3,
     "schema_version": 3,
     "solution": false,
     "task": false
    }
   },
   "outputs": [
    {
     "name": "stdout",
     "output_type": "stream",
     "text": [
      "{'100000.jpg': ['100001.jpg', '100002.jpg'], '100100.jpg': ['100001.jpg', '100002.jpg'], '100200.jpg': ['100001.jpg', '100002.jpg'], '100300.jpg': ['100001.jpg', '100002.jpg'], '100400.jpg': ['100001.jpg', '100002.jpg'], '100500.jpg': ['100001.jpg', '100002.jpg'], '100600.jpg': ['100001.jpg', '100002.jpg'], '100700.jpg': ['100001.jpg', '100002.jpg'], '100800.jpg': ['100001.jpg', '100002.jpg'], '100900.jpg': ['100001.jpg', '100002.jpg'], '101000.jpg': ['100001.jpg', '100002.jpg'], '101100.jpg': ['100001.jpg', '100002.jpg'], '101200.jpg': ['100001.jpg', '100002.jpg'], '101300.jpg': ['100001.jpg', '100002.jpg'], '101400.jpg': ['100001.jpg', '100002.jpg'], '101500.jpg': ['100001.jpg', '100002.jpg'], '101600.jpg': ['100001.jpg', '100002.jpg'], '101700.jpg': ['100001.jpg', '100002.jpg'], '101800.jpg': ['100001.jpg', '100002.jpg'], '101900.jpg': ['100001.jpg', '100002.jpg'], '102000.jpg': ['100001.jpg', '100002.jpg'], '102100.jpg': ['100001.jpg', '100002.jpg'], '102200.jpg': ['100001.jpg', '100002.jpg'], '102300.jpg': ['100001.jpg', '100002.jpg'], '102400.jpg': ['100001.jpg', '100002.jpg'], '102500.jpg': ['100001.jpg', '100002.jpg'], '102600.jpg': ['100001.jpg', '100002.jpg'], '102700.jpg': ['100001.jpg', '100002.jpg'], '102800.jpg': ['100001.jpg', '100002.jpg'], '102900.jpg': ['100001.jpg', '100002.jpg'], '103000.jpg': ['100001.jpg', '100002.jpg'], '103100.jpg': ['100001.jpg', '100002.jpg'], '103200.jpg': ['100001.jpg', '100002.jpg'], '103300.jpg': ['100001.jpg', '100002.jpg'], '103400.jpg': ['100001.jpg', '100002.jpg'], '103500.jpg': ['100001.jpg', '100002.jpg'], '103600.jpg': ['100001.jpg', '100002.jpg'], '103700.jpg': ['100001.jpg', '100002.jpg'], '103800.jpg': ['100001.jpg', '100002.jpg'], '103900.jpg': ['100001.jpg', '100002.jpg'], '104000.jpg': ['100001.jpg', '100002.jpg'], '104100.jpg': ['100001.jpg', '100002.jpg'], '104200.jpg': ['100001.jpg', '100002.jpg'], '104300.jpg': ['100001.jpg', '100002.jpg'], '104400.jpg': ['100001.jpg', '100002.jpg'], '104500.jpg': ['100001.jpg', '100002.jpg'], '104600.jpg': ['100001.jpg', '100002.jpg'], '104700.jpg': ['100001.jpg', '100002.jpg'], '104800.jpg': ['100001.jpg', '100002.jpg'], '104900.jpg': ['100001.jpg', '100002.jpg'], '105000.jpg': ['100001.jpg', '100002.jpg'], '105100.jpg': ['100001.jpg', '100002.jpg'], '105200.jpg': ['100001.jpg', '100002.jpg'], '105300.jpg': ['100001.jpg', '100002.jpg'], '105400.jpg': ['100001.jpg', '100002.jpg'], '105500.jpg': ['100001.jpg', '100002.jpg'], '105600.jpg': ['100001.jpg', '100002.jpg'], '105700.jpg': ['100001.jpg', '100002.jpg'], '105800.jpg': ['100001.jpg', '100002.jpg'], '105900.jpg': ['100001.jpg', '100002.jpg'], '106000.jpg': ['100001.jpg', '100002.jpg'], '106100.jpg': ['100001.jpg', '100002.jpg'], '106200.jpg': ['100001.jpg', '100002.jpg'], '106300.jpg': ['100001.jpg', '100002.jpg'], '106400.jpg': ['100001.jpg', '100002.jpg'], '106500.jpg': ['100001.jpg', '100002.jpg'], '106600.jpg': ['100001.jpg', '100002.jpg'], '106700.jpg': ['100001.jpg', '100002.jpg'], '106800.jpg': ['100001.jpg', '100002.jpg'], '106900.jpg': ['100001.jpg', '100002.jpg'], '107000.jpg': ['100001.jpg', '100002.jpg'], '107100.jpg': ['100001.jpg', '100002.jpg'], '107200.jpg': ['100001.jpg', '100002.jpg'], '107300.jpg': ['100001.jpg', '100002.jpg'], '107400.jpg': ['100001.jpg', '100002.jpg'], '107500.jpg': ['100001.jpg', '100002.jpg'], '107600.jpg': ['100001.jpg', '100002.jpg'], '107700.jpg': ['100001.jpg', '100002.jpg'], '107800.jpg': ['100001.jpg', '100002.jpg'], '107900.jpg': ['100001.jpg', '100002.jpg'], '108000.jpg': ['100001.jpg', '100002.jpg'], '108100.jpg': ['100001.jpg', '100002.jpg'], '108200.jpg': ['100001.jpg', '100002.jpg'], '108300.jpg': ['100001.jpg', '100002.jpg'], '108400.jpg': ['100001.jpg', '100002.jpg'], '108500.jpg': ['100001.jpg', '100002.jpg'], '108600.jpg': ['100001.jpg', '100002.jpg'], '108700.jpg': ['100001.jpg', '100002.jpg'], '108800.jpg': ['100001.jpg', '100002.jpg'], '108900.jpg': ['100001.jpg', '100002.jpg'], '109000.jpg': ['100001.jpg', '100002.jpg'], '109100.jpg': ['100001.jpg', '100002.jpg'], '109200.jpg': ['100001.jpg', '100002.jpg'], '109300.jpg': ['100001.jpg', '100002.jpg'], '109400.jpg': ['100001.jpg', '100002.jpg'], '109500.jpg': ['100001.jpg', '100002.jpg'], '109600.jpg': ['100001.jpg', '100002.jpg'], '109700.jpg': ['100001.jpg', '100002.jpg'], '109800.jpg': ['100001.jpg', '100002.jpg'], '109900.jpg': ['100001.jpg', '100002.jpg'], '110000.jpg': ['100001.jpg', '100002.jpg'], '110100.jpg': ['100001.jpg', '100002.jpg'], '110200.jpg': ['100001.jpg', '100002.jpg'], '110300.jpg': ['100001.jpg', '100002.jpg'], '110400.jpg': ['100001.jpg', '100002.jpg'], '110500.jpg': ['100001.jpg', '100002.jpg'], '110600.jpg': ['100001.jpg', '100002.jpg'], '110700.jpg': ['100001.jpg', '100002.jpg'], '110800.jpg': ['100001.jpg', '100002.jpg'], '110900.jpg': ['100001.jpg', '100002.jpg'], '111000.jpg': ['100001.jpg', '100002.jpg'], '111100.jpg': ['100001.jpg', '100002.jpg'], '111200.jpg': ['100001.jpg', '100002.jpg'], '111300.jpg': ['100001.jpg', '100002.jpg'], '111400.jpg': ['100001.jpg', '100002.jpg'], '111500.jpg': ['100001.jpg', '100002.jpg'], '111600.jpg': ['100001.jpg', '100002.jpg'], '111700.jpg': ['100001.jpg', '100002.jpg'], '111800.jpg': ['100001.jpg', '100002.jpg'], '111900.jpg': ['100001.jpg', '100002.jpg'], '112000.jpg': ['100001.jpg', '100002.jpg'], '112100.jpg': ['100001.jpg', '100002.jpg'], '112200.jpg': ['100001.jpg', '100002.jpg'], '112300.jpg': ['100001.jpg', '100002.jpg'], '112400.jpg': ['100001.jpg', '100002.jpg'], '112500.jpg': ['100001.jpg', '100002.jpg'], '112600.jpg': ['100001.jpg', '100002.jpg'], '112700.jpg': ['100001.jpg', '100002.jpg'], '112800.jpg': ['100001.jpg', '100002.jpg'], '112900.jpg': ['100001.jpg', '100002.jpg'], '113000.jpg': ['100001.jpg', '100002.jpg'], '113100.jpg': ['100001.jpg', '100002.jpg'], '113200.jpg': ['100001.jpg', '100002.jpg'], '113300.jpg': ['100001.jpg', '100002.jpg'], '113400.jpg': ['100001.jpg', '100002.jpg'], '113500.jpg': ['100001.jpg', '100002.jpg'], '113600.jpg': ['100001.jpg', '100002.jpg'], '113700.jpg': ['100001.jpg', '100002.jpg'], '113800.jpg': ['100001.jpg', '100002.jpg'], '113900.jpg': ['100001.jpg', '100002.jpg'], '114000.jpg': ['100001.jpg', '100002.jpg'], '114100.jpg': ['100001.jpg', '100002.jpg'], '114200.jpg': ['100001.jpg', '100002.jpg'], '114300.jpg': ['100001.jpg', '100002.jpg'], '114400.jpg': ['100001.jpg', '100002.jpg'], '114500.jpg': ['100001.jpg', '100002.jpg'], '114600.jpg': ['100001.jpg', '100002.jpg'], '114700.jpg': ['100001.jpg', '100002.jpg'], '114800.jpg': ['100001.jpg', '100002.jpg'], '114900.jpg': ['100001.jpg', '100002.jpg'], '115000.jpg': ['100001.jpg', '100002.jpg'], '115100.jpg': ['100001.jpg', '100002.jpg'], '115200.jpg': ['100001.jpg', '100002.jpg'], '115300.jpg': ['100001.jpg', '100002.jpg'], '115400.jpg': ['100001.jpg', '100002.jpg'], '115500.jpg': ['100001.jpg', '100002.jpg'], '115600.jpg': ['100001.jpg', '100002.jpg'], '115700.jpg': ['100001.jpg', '100002.jpg'], '115800.jpg': ['100001.jpg', '100002.jpg'], '115900.jpg': ['100001.jpg', '100002.jpg'], '116000.jpg': ['100001.jpg', '100002.jpg'], '116100.jpg': ['100001.jpg', '100002.jpg'], '116200.jpg': ['100001.jpg', '100002.jpg'], '116300.jpg': ['100001.jpg', '100002.jpg'], '116400.jpg': ['100001.jpg', '100002.jpg'], '116500.jpg': ['100001.jpg', '100002.jpg'], '116600.jpg': ['100001.jpg', '100002.jpg'], '116700.jpg': ['100001.jpg', '100002.jpg'], '116800.jpg': ['100001.jpg', '100002.jpg'], '116900.jpg': ['100001.jpg', '100002.jpg'], '117000.jpg': ['100001.jpg', '100002.jpg'], '117100.jpg': ['100001.jpg', '100002.jpg'], '117200.jpg': ['100001.jpg', '100002.jpg'], '117300.jpg': ['100001.jpg', '100002.jpg'], '117400.jpg': ['100001.jpg', '100002.jpg'], '117500.jpg': ['100001.jpg', '100002.jpg'], '117600.jpg': ['100001.jpg', '100002.jpg'], '117700.jpg': ['100001.jpg', '100002.jpg'], '117800.jpg': ['100001.jpg', '100002.jpg'], '117900.jpg': ['100001.jpg', '100002.jpg'], '118000.jpg': ['100001.jpg', '100002.jpg'], '118100.jpg': ['100001.jpg', '100002.jpg'], '118200.jpg': ['100001.jpg', '100002.jpg'], '118300.jpg': ['100001.jpg', '100002.jpg'], '118400.jpg': ['100001.jpg', '100002.jpg'], '118500.jpg': ['100001.jpg', '100002.jpg'], '118600.jpg': ['100001.jpg', '100002.jpg'], '118700.jpg': ['100001.jpg', '100002.jpg'], '118800.jpg': ['100001.jpg', '100002.jpg'], '118900.jpg': ['100001.jpg', '100002.jpg'], '119000.jpg': ['100001.jpg', '100002.jpg'], '119100.jpg': ['100001.jpg', '100002.jpg'], '119200.jpg': ['100001.jpg', '100002.jpg'], '119300.jpg': ['100001.jpg', '100002.jpg'], '119400.jpg': ['100001.jpg', '100002.jpg'], '119500.jpg': ['100001.jpg', '100002.jpg'], '119600.jpg': ['100001.jpg', '100002.jpg'], '119700.jpg': ['100001.jpg', '100002.jpg'], '119800.jpg': ['100001.jpg', '100002.jpg'], '119900.jpg': ['100001.jpg', '100002.jpg'], '120000.jpg': ['100001.jpg', '100002.jpg'], '120100.jpg': ['100001.jpg', '100002.jpg'], '120200.jpg': ['100001.jpg', '100002.jpg'], '120300.jpg': ['100001.jpg', '100002.jpg'], '120400.jpg': ['100001.jpg', '100002.jpg'], '120500.jpg': ['100001.jpg', '100002.jpg'], '120600.jpg': ['100001.jpg', '100002.jpg'], '120700.jpg': ['100001.jpg', '100002.jpg'], '120800.jpg': ['100001.jpg', '100002.jpg'], '120900.jpg': ['100001.jpg', '100002.jpg'], '121000.jpg': ['100001.jpg', '100002.jpg'], '121100.jpg': ['100001.jpg', '100002.jpg'], '121200.jpg': ['100001.jpg', '100002.jpg'], '121300.jpg': ['100001.jpg', '100002.jpg'], '121400.jpg': ['100001.jpg', '100002.jpg'], '121500.jpg': ['100001.jpg', '100002.jpg'], '121600.jpg': ['100001.jpg', '100002.jpg'], '121700.jpg': ['100001.jpg', '100002.jpg'], '121800.jpg': ['100001.jpg', '100002.jpg'], '121900.jpg': ['100001.jpg', '100002.jpg'], '122000.jpg': ['100001.jpg', '100002.jpg'], '122100.jpg': ['100001.jpg', '100002.jpg'], '122200.jpg': ['100001.jpg', '100002.jpg'], '122300.jpg': ['100001.jpg', '100002.jpg'], '122400.jpg': ['100001.jpg', '100002.jpg'], '122500.jpg': ['100001.jpg', '100002.jpg'], '122600.jpg': ['100001.jpg', '100002.jpg'], '122700.jpg': ['100001.jpg', '100002.jpg'], '122800.jpg': ['100001.jpg', '100002.jpg'], '122900.jpg': ['100001.jpg', '100002.jpg'], '123000.jpg': ['100001.jpg', '100002.jpg'], '123100.jpg': ['100001.jpg', '100002.jpg'], '123200.jpg': ['100001.jpg', '100002.jpg'], '123300.jpg': ['100001.jpg', '100002.jpg'], '123400.jpg': ['100001.jpg', '100002.jpg'], '123500.jpg': ['100001.jpg', '100002.jpg'], '123600.jpg': ['100001.jpg', '100002.jpg'], '123700.jpg': ['100001.jpg', '100002.jpg'], '123800.jpg': ['100001.jpg', '100002.jpg'], '123900.jpg': ['100001.jpg', '100002.jpg'], '124000.jpg': ['100001.jpg', '100002.jpg'], '124100.jpg': ['100001.jpg', '100002.jpg'], '124200.jpg': ['100001.jpg', '100002.jpg'], '124300.jpg': ['100001.jpg', '100002.jpg'], '124400.jpg': ['100001.jpg', '100002.jpg'], '124500.jpg': ['100001.jpg', '100002.jpg'], '124600.jpg': ['100001.jpg', '100002.jpg'], '124700.jpg': ['100001.jpg', '100002.jpg'], '124800.jpg': ['100001.jpg', '100002.jpg'], '124900.jpg': ['100001.jpg', '100002.jpg'], '125000.jpg': ['100001.jpg', '100002.jpg'], '125100.jpg': ['100001.jpg', '100002.jpg'], '125200.jpg': ['100001.jpg', '100002.jpg'], '125300.jpg': ['100001.jpg', '100002.jpg'], '125400.jpg': ['100001.jpg', '100002.jpg'], '125500.jpg': ['100001.jpg', '100002.jpg'], '125600.jpg': ['100001.jpg', '100002.jpg'], '125700.jpg': ['100001.jpg', '100002.jpg'], '125800.jpg': [], '125900.jpg': ['100001.jpg', '100002.jpg'], '126000.jpg': ['100001.jpg', '100002.jpg'], '126100.jpg': ['100001.jpg', '100002.jpg'], '126200.jpg': ['100001.jpg', '100002.jpg'], '126300.jpg': ['100001.jpg', '100002.jpg'], '126400.jpg': ['100001.jpg', '100002.jpg'], '126500.jpg': ['100001.jpg', '100002.jpg'], '126600.jpg': ['100001.jpg', '100002.jpg'], '126700.jpg': ['100001.jpg', '100002.jpg'], '126800.jpg': ['100001.jpg', '100002.jpg'], '126900.jpg': ['100001.jpg', '100002.jpg'], '127000.jpg': ['100001.jpg', '100002.jpg'], '127100.jpg': ['100001.jpg', '100002.jpg'], '127200.jpg': ['100001.jpg', '100002.jpg'], '127300.jpg': ['100001.jpg', '100002.jpg'], '127400.jpg': ['100001.jpg', '100002.jpg'], '127500.jpg': ['100001.jpg', '100002.jpg'], '127600.jpg': ['100001.jpg', '100002.jpg'], '127700.jpg': ['100001.jpg', '100002.jpg'], '127800.jpg': ['100001.jpg', '100002.jpg'], '127900.jpg': ['100001.jpg', '100002.jpg'], '128000.jpg': ['100001.jpg', '100002.jpg'], '128100.jpg': ['100001.jpg', '100002.jpg'], '128200.jpg': ['100001.jpg', '100002.jpg'], '128300.jpg': ['100001.jpg', '100002.jpg'], '128400.jpg': ['100001.jpg', '100002.jpg'], '128500.jpg': ['100001.jpg', '100002.jpg'], '128600.jpg': ['100001.jpg', '100002.jpg'], '128700.jpg': ['100001.jpg', '100002.jpg'], '128800.jpg': ['100001.jpg', '100002.jpg'], '128900.jpg': ['100001.jpg', '100002.jpg'], '129000.jpg': ['100001.jpg', '100002.jpg'], '129100.jpg': ['100001.jpg', '100002.jpg'], '129200.jpg': ['100001.jpg', '100002.jpg'], '129300.jpg': ['100001.jpg', '100002.jpg'], '129400.jpg': ['100001.jpg', '100002.jpg'], '129500.jpg': ['100001.jpg', '100002.jpg'], '129600.jpg': ['100001.jpg', '100002.jpg'], '129700.jpg': ['100001.jpg', '100002.jpg'], '129800.jpg': ['100001.jpg', '100002.jpg'], '129900.jpg': ['100001.jpg', '100002.jpg'], '130000.jpg': ['100001.jpg', '100002.jpg'], '130100.jpg': ['100001.jpg', '100002.jpg'], '130200.jpg': ['100001.jpg', '100002.jpg'], '130300.jpg': ['100001.jpg', '100002.jpg'], '130400.jpg': ['100001.jpg', '100002.jpg'], '130500.jpg': ['100001.jpg', '100002.jpg'], '130600.jpg': ['100001.jpg', '100002.jpg'], '130700.jpg': ['100001.jpg', '100002.jpg'], '130800.jpg': ['100001.jpg', '100002.jpg'], '130900.jpg': ['100001.jpg', '100002.jpg'], '131000.jpg': ['100001.jpg', '100002.jpg'], '131100.jpg': ['100001.jpg', '100002.jpg'], '131200.jpg': ['100001.jpg', '100002.jpg'], '131300.jpg': ['100001.jpg', '100002.jpg'], '131400.jpg': ['100001.jpg', '100002.jpg'], '131500.jpg': ['100001.jpg', '100002.jpg'], '131600.jpg': ['100001.jpg', '100002.jpg'], '131700.jpg': ['100001.jpg', '100002.jpg'], '131800.jpg': ['100001.jpg', '100002.jpg'], '131900.jpg': ['100001.jpg', '100002.jpg'], '132000.jpg': ['100001.jpg', '100002.jpg'], '132100.jpg': ['100001.jpg', '100002.jpg'], '132200.jpg': ['100001.jpg', '100002.jpg'], '132300.jpg': ['100001.jpg', '100002.jpg'], '132400.jpg': ['100001.jpg', '100002.jpg'], '132500.jpg': ['100001.jpg', '100002.jpg'], '132600.jpg': ['100001.jpg', '100002.jpg'], '132700.jpg': ['100001.jpg', '100002.jpg'], '132800.jpg': ['100001.jpg', '100002.jpg'], '132900.jpg': ['100001.jpg', '100002.jpg'], '133000.jpg': ['100001.jpg', '100002.jpg'], '133100.jpg': ['100001.jpg', '100002.jpg'], '133200.jpg': ['100001.jpg', '100002.jpg'], '133300.jpg': ['100001.jpg', '100002.jpg'], '133400.jpg': ['100001.jpg', '100002.jpg'], '133500.jpg': ['100001.jpg', '100002.jpg'], '133600.jpg': ['100001.jpg', '100002.jpg'], '133700.jpg': ['100001.jpg', '100002.jpg'], '133800.jpg': ['100001.jpg', '100002.jpg'], '133900.jpg': ['100001.jpg', '100002.jpg'], '134000.jpg': ['100001.jpg', '100002.jpg'], '134100.jpg': ['100001.jpg', '100002.jpg'], '134200.jpg': ['100001.jpg', '100002.jpg'], '134300.jpg': ['100001.jpg', '100002.jpg'], '134400.jpg': ['100001.jpg', '100002.jpg'], '134500.jpg': ['100001.jpg', '100002.jpg'], '134600.jpg': ['100001.jpg', '100002.jpg'], '134700.jpg': ['100001.jpg', '100002.jpg'], '134800.jpg': ['100001.jpg', '100002.jpg'], '134900.jpg': ['100001.jpg', '100002.jpg'], '135000.jpg': ['100001.jpg', '100002.jpg'], '135100.jpg': ['100001.jpg', '100002.jpg'], '135200.jpg': ['100001.jpg', '100002.jpg'], '135300.jpg': ['100001.jpg', '100002.jpg'], '135400.jpg': ['100001.jpg', '100002.jpg'], '135500.jpg': ['100001.jpg', '100002.jpg'], '135600.jpg': ['100001.jpg', '100002.jpg'], '135700.jpg': ['100001.jpg', '100002.jpg'], '135800.jpg': ['100001.jpg', '100002.jpg'], '135900.jpg': ['100001.jpg', '100002.jpg'], '136000.jpg': ['100001.jpg', '100002.jpg'], '136100.jpg': ['100001.jpg', '100002.jpg'], '136200.jpg': ['100001.jpg', '100002.jpg'], '136300.jpg': ['100001.jpg', '100002.jpg'], '136400.jpg': ['100001.jpg', '100002.jpg'], '136500.jpg': ['100001.jpg', '100002.jpg'], '136600.jpg': ['100001.jpg', '100002.jpg'], '136700.jpg': ['100001.jpg', '100002.jpg'], '136800.jpg': ['100001.jpg', '100002.jpg'], '136900.jpg': ['100001.jpg', '100002.jpg'], '137000.jpg': ['100001.jpg', '100002.jpg'], '137100.jpg': ['100001.jpg', '100002.jpg'], '137200.jpg': ['100001.jpg', '100002.jpg'], '137300.jpg': ['100001.jpg', '100002.jpg'], '137400.jpg': ['100001.jpg', '100002.jpg'], '137500.jpg': ['100001.jpg', '100002.jpg'], '137600.jpg': ['100001.jpg', '100002.jpg'], '137700.jpg': ['100001.jpg', '100002.jpg'], '137800.jpg': ['100001.jpg', '100002.jpg'], '137900.jpg': ['100001.jpg', '100002.jpg'], '138000.jpg': ['100001.jpg', '100002.jpg'], '138100.jpg': ['100001.jpg', '100002.jpg'], '138200.jpg': ['100001.jpg', '100002.jpg'], '138300.jpg': ['100001.jpg', '100002.jpg'], '138400.jpg': ['100001.jpg', '100002.jpg'], '138500.jpg': ['100001.jpg', '100002.jpg'], '138600.jpg': ['100001.jpg', '100002.jpg'], '138700.jpg': ['100001.jpg', '100002.jpg'], '138800.jpg': ['100001.jpg', '100002.jpg'], '138900.jpg': ['100001.jpg', '100002.jpg'], '139000.jpg': ['100001.jpg', '100002.jpg'], '139100.jpg': ['100001.jpg', '100002.jpg'], '139200.jpg': ['100001.jpg', '100002.jpg'], '139300.jpg': ['100001.jpg', '100002.jpg'], '139400.jpg': ['100001.jpg', '100002.jpg'], '139500.jpg': ['100001.jpg', '100002.jpg'], '139600.jpg': ['100001.jpg', '100002.jpg'], '139700.jpg': ['100001.jpg', '100002.jpg'], '139800.jpg': ['100001.jpg', '100002.jpg'], '139900.jpg': ['100001.jpg', '100002.jpg'], '140000.jpg': ['100001.jpg', '100002.jpg'], '140100.jpg': ['100001.jpg', '100002.jpg'], '140200.jpg': ['100001.jpg', '100002.jpg'], '140300.jpg': ['100001.jpg', '100002.jpg'], '140400.jpg': ['100001.jpg', '100002.jpg'], '140500.jpg': ['100001.jpg', '100002.jpg'], '140600.jpg': ['100001.jpg', '100002.jpg'], '140700.jpg': ['100001.jpg', '100002.jpg'], '140800.jpg': ['100001.jpg', '100002.jpg'], '140900.jpg': ['100001.jpg', '100002.jpg'], '141000.jpg': ['100001.jpg', '100002.jpg'], '141100.jpg': ['100001.jpg', '100002.jpg'], '141200.jpg': ['100001.jpg', '100002.jpg'], '141300.jpg': ['100001.jpg', '100002.jpg'], '141400.jpg': ['100001.jpg', '100002.jpg'], '141500.jpg': ['100001.jpg', '100002.jpg'], '141600.jpg': ['100001.jpg', '100002.jpg'], '141700.jpg': ['100001.jpg', '100002.jpg'], '141800.jpg': ['100001.jpg', '100002.jpg'], '141900.jpg': ['100001.jpg', '100002.jpg'], '142000.jpg': ['100001.jpg', '100002.jpg'], '142100.jpg': ['100001.jpg', '100002.jpg'], '142200.jpg': ['100001.jpg', '100002.jpg'], '142300.jpg': ['100001.jpg', '100002.jpg'], '142400.jpg': ['100001.jpg', '100002.jpg'], '142500.jpg': ['100001.jpg', '100002.jpg'], '142600.jpg': ['100001.jpg', '100002.jpg'], '142700.jpg': ['100001.jpg', '100002.jpg'], '142800.jpg': ['100001.jpg', '100002.jpg'], '142900.jpg': ['100001.jpg', '100002.jpg'], '143000.jpg': ['100001.jpg', '100002.jpg'], '143100.jpg': ['100001.jpg', '100002.jpg'], '143200.jpg': ['100001.jpg', '100002.jpg'], '143300.jpg': ['100001.jpg', '100002.jpg'], '143400.jpg': ['100001.jpg', '100002.jpg'], '143500.jpg': ['100001.jpg', '100002.jpg'], '143600.jpg': ['100001.jpg', '100002.jpg'], '143700.jpg': ['100001.jpg', '100002.jpg'], '143800.jpg': ['100001.jpg', '100002.jpg'], '143900.jpg': ['100001.jpg', '100002.jpg'], '144000.jpg': ['100001.jpg', '100002.jpg'], '144100.jpg': ['100001.jpg', '100002.jpg'], '144200.jpg': ['100001.jpg', '100002.jpg'], '144300.jpg': ['100001.jpg', '100002.jpg'], '144400.jpg': ['100001.jpg', '100002.jpg'], '144500.jpg': ['100001.jpg', '100002.jpg'], '144600.jpg': ['100001.jpg', '100002.jpg'], '144700.jpg': ['100001.jpg', '100002.jpg'], '144800.jpg': ['100001.jpg', '100002.jpg'], '144900.jpg': ['100001.jpg', '100002.jpg'], '145000.jpg': ['100001.jpg', '100002.jpg'], '145100.jpg': ['100001.jpg', '100002.jpg'], '145200.jpg': ['100001.jpg', '100002.jpg'], '145300.jpg': ['100001.jpg', '100002.jpg'], '145400.jpg': ['100001.jpg', '100002.jpg'], '145500.jpg': ['100001.jpg', '100002.jpg'], '145600.jpg': ['100001.jpg', '100002.jpg'], '145700.jpg': ['100001.jpg', '100002.jpg'], '145800.jpg': ['100001.jpg', '100002.jpg'], '145900.jpg': ['100001.jpg', '100002.jpg'], '146000.jpg': ['100001.jpg', '100002.jpg'], '146100.jpg': ['100001.jpg', '100002.jpg'], '146200.jpg': ['100001.jpg', '100002.jpg'], '146300.jpg': ['100001.jpg', '100002.jpg'], '146400.jpg': ['100001.jpg', '100002.jpg'], '146500.jpg': ['100001.jpg', '100002.jpg'], '146600.jpg': ['100001.jpg', '100002.jpg'], '146700.jpg': ['100001.jpg', '100002.jpg'], '146800.jpg': ['100001.jpg', '100002.jpg'], '146900.jpg': ['100001.jpg', '100002.jpg'], '147000.jpg': ['100001.jpg', '100002.jpg'], '147100.jpg': ['100001.jpg', '100002.jpg'], '147200.jpg': ['100001.jpg', '100002.jpg'], '147300.jpg': ['100001.jpg', '100002.jpg'], '147400.jpg': ['100001.jpg', '100002.jpg'], '147500.jpg': ['100001.jpg', '100002.jpg'], '147600.jpg': ['100001.jpg', '100002.jpg'], '147700.jpg': ['100001.jpg', '100002.jpg'], '147800.jpg': ['100001.jpg', '100002.jpg'], '147900.jpg': ['100001.jpg', '100002.jpg'], '148000.jpg': ['100001.jpg', '100002.jpg'], '148100.jpg': ['100001.jpg', '100002.jpg'], '148200.jpg': ['100001.jpg', '100002.jpg'], '148300.jpg': ['100001.jpg', '100002.jpg'], '148400.jpg': ['100001.jpg', '100002.jpg'], '148500.jpg': ['100001.jpg', '100002.jpg'], '148600.jpg': ['100001.jpg', '100002.jpg'], '148700.jpg': ['100001.jpg', '100002.jpg'], '148800.jpg': ['100001.jpg', '100002.jpg'], '148900.jpg': ['100001.jpg', '100002.jpg'], '149000.jpg': ['100001.jpg', '100002.jpg'], '149100.jpg': ['100001.jpg', '100002.jpg'], '149200.jpg': ['100001.jpg', '100002.jpg'], '149300.jpg': ['100001.jpg', '100002.jpg'], '149400.jpg': ['100001.jpg', '100002.jpg'], '149500.jpg': ['100001.jpg', '100002.jpg'], '149600.jpg': ['100001.jpg', '100002.jpg'], '149700.jpg': ['100001.jpg', '100002.jpg'], '149800.jpg': ['100001.jpg', '100002.jpg'], '149900.jpg': ['100001.jpg', '100002.jpg']}\n",
      "0.002\n"
     ]
    }
   ],
   "source": [
    "results, mAP = index.compute_mAP(query_names, query_desc)\n",
    "print(results)\n",
    "print(mAP)"
   ]
  },
  {
   "cell_type": "markdown",
   "id": "a5046a9c",
   "metadata": {
    "deletable": false,
    "editable": false,
    "nbgrader": {
     "cell_type": "markdown",
     "checksum": "763e74c102202322912c057bc8327544",
     "grade": false,
     "grade_id": "cell-fdf71f42f5f298ce",
     "locked": true,
     "schema_version": 3,
     "solution": false,
     "task": false
    }
   },
   "source": [
    "**Q8**: In the following cell compute the resulting mAP of the system **using the vocabularies of 200, 2K, 20K and 200K visual words**:"
   ]
  },
  {
   "cell_type": "code",
   "execution_count": 8,
   "id": "c8901aab",
   "metadata": {
    "deletable": false,
    "nbgrader": {
     "cell_type": "code",
     "checksum": "70f60d56a1270671470b02ff879a740d",
     "grade": false,
     "grade_id": "cell-4176faf951e0cc65",
     "locked": false,
     "schema_version": 3,
     "solution": true,
     "task": false
    }
   },
   "outputs": [],
   "source": [
    "# Fill these variables with the resulting mAP\n",
    "mAP_200  = 0.0\n",
    "mAP_2K   = 0.0\n",
    "mAP_20K  = 0.0\n",
    "mAP_200K = 0.0\n",
    "index = BoW(f'clust/clust_flickr60_k200.fvecs')\n",
    "index.build_db(train_names, train_desc)\n",
    "# Measure query time and compute mAP\n",
    "_, mAP_200 = index.compute_mAP(query_names, query_desc)\n",
    "index = BoW(f'clust/clust_flickr60_k2000.fvecs')\n",
    "index.build_db(train_names, train_desc)\n",
    "# Measure query time and compute mAP\n",
    "_, mAP_2K = index.compute_mAP(query_names, query_desc)\n",
    "index = BoW(f'clust/clust_flickr60_k20000.fvecs')\n",
    "index.build_db(train_names, train_desc)\n",
    "# Measure query time and compute mAP\n",
    "_, mAP_20K = index.compute_mAP(query_names, query_desc)\n",
    "index = BoW(f'clust/clust_flickr60_k200000.fvecs')\n",
    "index.build_db(train_names, train_desc)\n",
    "# Measure query time and compute mAP\n",
    "_, mAP_200K = index.compute_mAP(query_names, query_desc)"
   ]
  },
  {
   "cell_type": "code",
   "execution_count": 9,
   "id": "9c1ed565",
   "metadata": {
    "deletable": false,
    "editable": false,
    "nbgrader": {
     "cell_type": "code",
     "checksum": "fcea21868d957c7425e74ae4a5032825",
     "grade": true,
     "grade_id": "cell-f4374afc6ecce161",
     "locked": true,
     "points": 0.3,
     "schema_version": 3,
     "solution": false,
     "task": false
    }
   },
   "outputs": [
    {
     "name": "stdout",
     "output_type": "stream",
     "text": [
      "mAP 200: 0.05009\n",
      "mAP 2K: 0.41902\n",
      "mAP 20K: 0.46183\n",
      "mAP 200K: 0.51985\n"
     ]
    }
   ],
   "source": [
    "print('mAP 200: %.5f' % mAP_200)\n",
    "print('mAP 2K: %.5f' % mAP_2K)\n",
    "print('mAP 20K: %.5f' % mAP_20K)\n",
    "print('mAP 200K: %.5f' % mAP_200K)"
   ]
  },
  {
   "cell_type": "markdown",
   "id": "5e818e7c",
   "metadata": {
    "deletable": false,
    "editable": false,
    "nbgrader": {
     "cell_type": "markdown",
     "checksum": "07f57bc9d9bd78d99b403602f8a90e44",
     "grade": false,
     "grade_id": "cell-e5a519c51fa0069b",
     "locked": true,
     "schema_version": 3,
     "solution": false,
     "task": false
    }
   },
   "source": [
    "**Q9**: Compare the performances obtained on each case. Is a larger vocabulary size always better? Why or why not?"
   ]
  },
  {
   "cell_type": "markdown",
   "id": "f6015870",
   "metadata": {
    "deletable": false,
    "editable": false,
    "nbgrader": {
     "cell_type": "markdown",
     "checksum": "564ebe7c40dcffe1c50dfe735098e350",
     "grade": false,
     "grade_id": "cell-9429db3024616a16",
     "locked": true,
     "points": 0.2,
     "schema_version": 3,
     "solution": false,
     "task": true
    }
   },
   "source": [
    "Write here the code required to answer the questions stated above. You can add more cells (code / markdown) at this point if you need it."
   ]
  },
  {
   "cell_type": "markdown",
   "id": "781132ef",
   "metadata": {},
   "source": [
    "**Response Q9**  \n",
    "\n",
    "The results appear to be proportional to vocabulary size. Thus, with the smallest vocabulary, the magnitude of MAP is approximately 0.05, which is a magnitude of a hundredth. Conversely, with a vocabulary size of 2000 and above, the magnitudes increase and are expressed in tenths.\n",
    "The outcomes are in alignment with the hypothesis that the Bag of Words (BoW) approach can be effectively employed in Content-Based Image Retrieval (CBIR). \n",
    "\n",
    "The Bag-of-Words model represents each image as a histogram of visual words, where each visual word corresponds to a cluster center in the feature space. The size of the vocabulary, or the number of visual words, directly affects the level of detail in this representation. In addition to a larger vocabulary, a more detailed representation of the image content can lead to more accurate matches and a higher Mean Average Precision (mAP).  \n",
    " \n",
    "If the number of visual words (or the size of the vocabulary) is limited, each visual word is relatively general and encompasses a significant portion of the feature space. Consequently, images may exhibit similar histogram profiles, resulting in diminished retrieval accuracy.\n",
    "\n",
    "As the size of the vocabulary increases, each visual word becomes more specific and covers a smaller portion of the feature space. This enables the model to extract more detailed information about each image, resulting in enhanced retrieval accuracy. \n"
   ]
  },
  {
   "cell_type": "markdown",
   "id": "7b582757",
   "metadata": {
    "deletable": false,
    "editable": false,
    "nbgrader": {
     "cell_type": "markdown",
     "checksum": "8b81f882f6c67715a70baf6a6e3e38d1",
     "grade": false,
     "grade_id": "cell-971d658462e12e6e",
     "locked": true,
     "schema_version": 3,
     "solution": false,
     "task": false
    }
   },
   "source": [
    "**Q10**: Analyze the effect of the vocabulary size in terms of mAP and average response time (train and query times). Are these times constant for each vocabulary? Some plots here can be useful to justify your answer."
   ]
  },
  {
   "cell_type": "markdown",
   "id": "a7695e01",
   "metadata": {
    "deletable": false,
    "editable": false,
    "nbgrader": {
     "cell_type": "markdown",
     "checksum": "193e620c3bf540dd97e40ee42b830638",
     "grade": false,
     "grade_id": "cell-1e355e0c5cb28de0",
     "locked": true,
     "points": 0.1,
     "schema_version": 3,
     "solution": false,
     "task": true
    }
   },
   "source": [
    "Write here the code required to answer the questions stated above. You can add more cells (code / markdown) at this point if you need it."
   ]
  },
  {
   "cell_type": "markdown",
   "id": "1ec8ecc1",
   "metadata": {},
   "source": [
    "**Response Q10**:  \n",
    "For each vocabulary size in vocab_sizes, measure the training and query times, compute the mAP score, and plot the results. The plots will help us analyze the effect of the vocabulary size on the mAP score and the response times."
   ]
  },
  {
   "cell_type": "code",
   "execution_count": 48,
   "id": "603f17a8",
   "metadata": {},
   "outputs": [
    {
     "data": {
      "image/png": "[encoded data removed]",
      "text/plain": [
       "<Figure size 1000x500 with 1 Axes>"
      ]
     },
     "metadata": {},
     "output_type": "display_data"
    },
    {
     "data": {
      "image/png": "[encoded data removed]",
      "text/plain": [
       "<Figure size 1000x500 with 1 Axes>"
      ]
     },
     "metadata": {},
     "output_type": "display_data"
    },
    {
     "data": {
      "image/png": "[encoded data removed]",
      "text/plain": [
       "<Figure size 1000x500 with 1 Axes>"
      ]
     },
     "metadata": {},
     "output_type": "display_data"
    }
   ],
   "source": [
    "import time\n",
    "\n",
    "# List of vocabulary sizes to test\n",
    "vocab_sizes = [200, 2000, 20000, 200000]\n",
    "\n",
    "# Initialize lists to store results\n",
    "mAP_scores = []\n",
    "train_times = []\n",
    "query_times = []\n",
    "\n",
    "for vocab_size in vocab_sizes:\n",
    "    # Initialize BoW with current vocabulary size\n",
    "    index = BoW(f'clust/clust_flickr60_k{vocab_size}.fvecs')\n",
    "\n",
    "    # Measure training time\n",
    "    start_time = time.time()\n",
    "    index.build_db(train_names, train_desc)\n",
    "    end_time = time.time()\n",
    "    train_times.append(end_time - start_time)\n",
    "\n",
    "    # Measure query time and compute mAP\n",
    "    start_time = time.time()\n",
    "    results, mAP = index.compute_mAP(query_names, query_desc)\n",
    "    end_time = time.time()\n",
    "    query_times.append(end_time - start_time)\n",
    "    mAP_scores.append(mAP)\n",
    "\n",
    "# Plot mAP scores\n",
    "plt.figure(figsize=(10, 5))\n",
    "plt.plot(vocab_sizes, mAP_scores, marker='o')\n",
    "for i, txt in enumerate(mAP_scores):\n",
    "    plt.text(vocab_sizes[i], mAP_scores[i], f'{txt:.2f}')\n",
    "plt.title('mAP scores for different vocabulary sizes')\n",
    "plt.xlabel('Vocabulary size')\n",
    "plt.ylabel('mAP score')\n",
    "plt.grid(True)\n",
    "plt.show()\n",
    "\n",
    "# Plot training times\n",
    "plt.figure(figsize=(10, 5))\n",
    "plt.plot(vocab_sizes, train_times, marker='o')\n",
    "for i, txt in enumerate(train_times):\n",
    "    plt.text(vocab_sizes[i], train_times[i], f'{txt:.2f}')\n",
    "plt.title('Training times for different vocabulary sizes')\n",
    "plt.xlabel('Vocabulary size')\n",
    "plt.ylabel('Training time (seconds)')\n",
    "plt.grid(True)\n",
    "plt.show()\n",
    "\n",
    "# Plot query times\n",
    "plt.figure(figsize=(10, 5))\n",
    "plt.plot(vocab_sizes, query_times, marker='o')\n",
    "for i, txt in enumerate(query_times):\n",
    "    plt.text(vocab_sizes[i], query_times[i], f'{txt:.2f}')\n",
    "plt.title('Query times for different vocabulary sizes')\n",
    "plt.xlabel('Vocabulary size')\n",
    "plt.ylabel('Query time (seconds)')\n",
    "plt.grid(True)\n",
    "plt.show()"
   ]
  },
  {
   "cell_type": "markdown",
   "id": "232d110f",
   "metadata": {},
   "source": [
    "**Commented results**:  \n",
    "\n",
    "1. Mean Average Precision (mAP): As anticipated, the mean average precision (mAP) demonstrates an upward trend as the vocabulary size increases. This is because a larger vocabulary can facilitate the capture of more detailed information about images, thereby enhancing the accuracy of image retrieval. The increase in mAP from 200 to 200,000 visual words illustrates this point.  \n",
    "\n",
    "2. Training Time: It can be observed that the training time also increases in direct proportion to the vocabulary size. This is to be expected, given that a larger vocabulary necessitates the utilization of greater computational resources to construct the index. The increase in training time from 9.31 seconds for 200 visual words to 19.36 seconds for 200,000 visual words serves to illustrate this phenomenon.  \n",
    "\n",
    "3. Query Time: The query time initially decreases as the vocabulary size increases from 200 to 20,000 visual words, but then slightly increases when the vocabulary size increases to 200,000. Due to the increased computational complexity of matching descriptors to a large number of visual words, one might expect query time to increase with vocabulary size. Nevertheless, the observed pattern may be explained by the implementation or dataset characteristics. For instance, with a larger vocabulary, the descriptors of each image may be matched to fewer visual words on average, potentially expediting the query process. \n",
    "\n",
    "In conclusion, the results demonstrate the trade-offs involved in choosing the vocabulary size for a Bag of Words model in a Content-Based Image Retrieval system. The greater the vocabulary, the better the retrieval accuracy (measured by mAP), but the greater the computational cost (measured by training and query time). As a result, the optimal vocabulary size depends on the application's requirements, including computational resources and speed vs. retrieval accuracy.\n"
   ]
  },
  {
   "cell_type": "markdown",
   "id": "b98f5416",
   "metadata": {
    "deletable": false,
    "editable": false,
    "nbgrader": {
     "cell_type": "markdown",
     "checksum": "cb7b5be6b81db0380ab35f49a6552a21",
     "grade": false,
     "grade_id": "cell-219866d30da6310f",
     "locked": true,
     "schema_version": 3,
     "solution": false,
     "task": false
    }
   },
   "source": [
    "**Q11**: Do the results obtained depend on the set of images used to generate the vocabulary? How can we improve the retrieval performance?"
   ]
  },
  {
   "cell_type": "markdown",
   "id": "a7345924",
   "metadata": {
    "deletable": false,
    "editable": false,
    "nbgrader": {
     "cell_type": "markdown",
     "checksum": "4e5d90633e2fc5b72aa613279c228f6c",
     "grade": false,
     "grade_id": "cell-96569c702b5b7198",
     "locked": true,
     "points": 0.1,
     "schema_version": 3,
     "solution": false,
     "task": true
    }
   },
   "source": [
    "Write here the code required to answer the questions stated above. You can add more cells (code / markdown) at this point if you need it."
   ]
  },
  {
   "cell_type": "markdown",
   "id": "efb17a5b",
   "metadata": {},
   "source": [
    "**Response Q11**:  \n",
    "The outcomes of a Content-Based Image Retrieval (CBIR) system that employs the Bag of Words (BoW) model may be contingent upon the specific set of images utilized to generate the visual vocabulary. The visual vocabulary is generated through the process of clustering feature descriptors extracted from a set of images. CBIR may perform suboptimally if the images used to generate the vocabulary are not representative of the images that will be queried.  \n",
    "\n",
    "To enhance the efficacy of the process, it is possible to direct attention to specific elements of the procedure, should one wish to enhance the quality of the data source. \n",
    "\n",
    "1. One potential avenue for improvement is to refine the set of images used to generate the vocabulary. The images should be representative of the variety to be queried in the CBIR system. \n",
    "\n",
    "2. Additionally, the size of the visual vocabulary can be augmented. A larger vocabulary may facilitate the capture of more detailed information about the images, potentially improving retrieval accuracy. Nevertheless, this also results in increased computational costs, indicating a trade-off. \n",
    "\n",
    "The efficiency and accuracy of a content-based image retrieval (CBIR) system may depend on the algorithm used to align the descriptors of a query image with the visual vocabulary words. \n",
    "\n",
    "1. Therefore, the code can be modified to make the comparison more optimal.  \n",
    "\n",
    "2. The use of advanced models, such as those based on deep learning. These models have the potential to offer superior performance compared to the Bag of Words (BoW) model; however, they are more complex and computationally demanding.  "
   ]
  },
  {
   "cell_type": "markdown",
   "id": "28efbead",
   "metadata": {
    "deletable": false,
    "editable": false,
    "nbgrader": {
     "cell_type": "markdown",
     "checksum": "fe4a6d363c03ec519f228f1c2fcb8a22",
     "grade": false,
     "grade_id": "cell-4795f460941688a9",
     "locked": true,
     "schema_version": 3,
     "solution": false,
     "task": false
    }
   },
   "source": [
    "### TF-IDF\n",
    "As a final task of this assignment, let's implement the TF-IDF scoring scheme. Modify the `BoW` class you wrote before to include the TF-IDF weighting scheme:"
   ]
  },
  {
   "cell_type": "code",
   "execution_count": 10,
   "id": "593cafcc",
   "metadata": {
    "deletable": false,
    "nbgrader": {
     "cell_type": "code",
     "checksum": "7a5bbebd21d49ef285373e0436c7e36c",
     "grade": false,
     "grade_id": "cell-a65f0d83a4e6326d",
     "locked": false,
     "schema_version": 3,
     "solution": true,
     "task": false
    }
   },
   "outputs": [],
   "source": [
    "from collections import defaultdict\n",
    "class BoW_TFIDF:\n",
    "    \"\"\"\n",
    "    Class to implement the BoW model + Inverted File + TF-IDF Scoring scheme\n",
    "    \"\"\"\n",
    "  \n",
    "    def __init__(self, vocab_file):\n",
    "        \"\"\"\n",
    "        Class constructor. It loads the vocabulary and initializes other stuff\n",
    "        required for the CBIR system, such as the inverted file structure.\n",
    "        \"\"\"\n",
    "        self.vocab = rd.load_visual_vocab(vocab_file)\n",
    "        self.nwords = self.vocab.getTrainDescriptors()[0].shape[0]\n",
    "        self.train_names = []\n",
    "        self.inv_list = {word_id: {} for word_id in range(self.nwords)}        \n",
    "        self.tfidf = {}\n",
    "\n",
    "    def build_db(self, img_names, img_descs):\n",
    "        \"\"\"\n",
    "        Build an index from a set of images. Essentially, for each image, you should\n",
    "        search its descriptors in the index in order to find the closest visual words\n",
    "        and fill the inverted file structure consequently. Additionally, TF and IDF terms\n",
    "        should be computed here.\n",
    "        \"\"\"\n",
    "        # Total number of images\n",
    "        N = len(img_names)\n",
    "        for img_name, descs in zip(img_names, img_descs):\n",
    "            # Add the image name to the list of training images\n",
    "            self.train_names.append(img_name)\n",
    "            # Find the closest visual word for each descriptor\n",
    "            matches = self.vocab.knnMatch(descs, k=1)\n",
    "            for match in matches:\n",
    "                # Get the ID of the matched visual word\n",
    "                word_id = match[0].trainIdx\n",
    "                # Increment the count of this visual word for this image\n",
    "                self.inv_list[word_id][img_name] = self.inv_list[word_id].get(img_name, 0) + 1\n",
    "        # Compute the IDF for each visual word\n",
    "        for word_id in range(self.nwords):\n",
    "            # Document frequency of the visual word\n",
    "            df = len(self.inv_list[word_id])\n",
    "            # Compute the IDF as the log of the total number of images divided by the document frequency\n",
    "            self.tfidf[word_id] = np.log(N / (df if df else 1))\n",
    "\n",
    "    def search_image(self, descs):\n",
    "        \"\"\"\n",
    "        Search an image in the index. Use the TF-IDF here when scoring the images.\n",
    "\n",
    "        - descs: A numpy array. It is the set descriptors extracted from the query image.\n",
    "\n",
    "        RETURN:\n",
    "        - An ordered list of similar images, e.g.: ['100101.jpg', '100202.jpg', ...]\n",
    "        \"\"\"\n",
    "        # Initialize a dictionary to store the scores of the images\n",
    "        scores = defaultdict(float)\n",
    "        # Find the closest visual word for each descriptor\n",
    "        matches = self.vocab.knnMatch(descs, k=1)\n",
    "        for match in matches:\n",
    "            # Get the ID of the matched visual word\n",
    "            word_id = match[0].trainIdx\n",
    "            for img_name, tf in self.inv_list[word_id].items():\n",
    "                # Increment the score of the image by the TF-IDF score of the visual word\n",
    "                scores[img_name] += tf * self.tfidf[word_id]\n",
    "        # Sort the images by their scores in descending order\n",
    "        sorted_images = sorted(scores.items(), key=lambda x: x[1], reverse=True)\n",
    "        # Return the list of image names\n",
    "        return [img_name for img_name, _ in sorted_images]\n",
    "\n",
    "        \n",
    "    def compute_mAP(self, query_names, query_descs):\n",
    "        \"\"\"\n",
    "        Perform a search for a list of query images against the database and evaluates\n",
    "        the performance of the system.\n",
    "        \n",
    "        - query_names: An ordered list with the names of query images\n",
    "        - query_descs: A list containing numpy arrays of size (ndesc_for_this_image, 128). \n",
    "              Each numpy array i corresponds to the descriptors found at image i.\n",
    "\n",
    "        RETURN:\n",
    "        - total_results: A dictionary containing, for each query image, an ordered list of the retrieved images.\n",
    "        - m_ap: Mean Average Precision averaged over all queries.\n",
    "        \"\"\"\n",
    "        total_results = {}\n",
    "        m_ap = 0.0\n",
    "        for query_name, query_desc in zip(query_names, query_descs):\n",
    "            # Retrieve the list of similar images\n",
    "            retrieved_images = self.search_image(query_desc)\n",
    "            total_results[query_name] = retrieved_images\n",
    "        m_ap = ev.compute_mAP(total_results, f'{holidays_folder_path}/holidays/holidays_images.dat')\n",
    "        \n",
    "        return total_results, m_ap"
   ]
  },
  {
   "cell_type": "code",
   "execution_count": 11,
   "id": "b50bb6a4",
   "metadata": {
    "deletable": false,
    "editable": false,
    "nbgrader": {
     "cell_type": "code",
     "checksum": "2a7f9e72db766bbb46a9351d79c32153",
     "grade": true,
     "grade_id": "cell-5852069de28f4013",
     "locked": true,
     "points": 0.5,
     "schema_version": 3,
     "solution": false,
     "task": false
    }
   },
   "outputs": [],
   "source": [
    "# Example of use\n",
    "index = BoW_TFIDF('clust/clust_flickr60_k200.fvecs')\n",
    "index.build_db(train_names[0:2], train_desc[0:2])"
   ]
  },
  {
   "cell_type": "code",
   "execution_count": 12,
   "id": "6de5068e",
   "metadata": {
    "deletable": false,
    "editable": false,
    "nbgrader": {
     "cell_type": "code",
     "checksum": "0becf97cffc51eee9453ec7f73d0b7bf",
     "grade": true,
     "grade_id": "cell-96c066a07526d05c",
     "locked": true,
     "points": 0.45,
     "schema_version": 3,
     "solution": false,
     "task": false
    }
   },
   "outputs": [
    {
     "name": "stdout",
     "output_type": "stream",
     "text": [
      "['100001.jpg', '100002.jpg']\n"
     ]
    }
   ],
   "source": [
    "res = index.search_image(query_desc[0])\n",
    "print(res)"
   ]
  },
  {
   "cell_type": "markdown",
   "id": "a554f0a8",
   "metadata": {
    "deletable": false,
    "editable": false,
    "nbgrader": {
     "cell_type": "markdown",
     "checksum": "82c28d6c0fdd0e7ad5f379588c605055",
     "grade": false,
     "grade_id": "cell-575949824f2de049",
     "locked": true,
     "schema_version": 3,
     "solution": false,
     "task": false
    }
   },
   "source": [
    "**Q12**: In the following cell compute the resulting mAP of the system **using the vocabularies of 200, 2K, 20K and 200K visual words**:"
   ]
  },
  {
   "cell_type": "code",
   "execution_count": 13,
   "id": "6307706a",
   "metadata": {
    "deletable": false,
    "nbgrader": {
     "cell_type": "code",
     "checksum": "8c95346b797b2cca41bcecdc3662a524",
     "grade": false,
     "grade_id": "cell-0d04839ddb813322",
     "locked": false,
     "schema_version": 3,
     "solution": true,
     "task": false
    }
   },
   "outputs": [],
   "source": [
    "# Fill these variables with the resulting mAP\n",
    "mAP_200  = 0.0\n",
    "mAP_2K   = 0.0\n",
    "mAP_20K  = 0.0\n",
    "mAP_200K = 0.0\n",
    "\n",
    "\n",
    "index = BoW_TFIDF(f'clust/clust_flickr60_k200.fvecs')\n",
    "index.build_db(train_names, train_desc)\n",
    "# Measure query time and compute mAP\n",
    "_, mAP_200 = index.compute_mAP(query_names, query_desc)\n",
    "index = BoW_TFIDF(f'clust/clust_flickr60_k2000.fvecs')\n",
    "index.build_db(train_names, train_desc)\n",
    "# Measure query time and compute mAP\n",
    "_, mAP_2K = index.compute_mAP(query_names, query_desc)\n",
    "index = BoW_TFIDF(f'clust/clust_flickr60_k20000.fvecs')\n",
    "index.build_db(train_names, train_desc)\n",
    "# Measure query time and compute mAP\n",
    "_, mAP_20K = index.compute_mAP(query_names, query_desc)\n",
    "index = BoW_TFIDF(f'clust/clust_flickr60_k200000.fvecs')\n",
    "index.build_db(train_names, train_desc)\n",
    "# Measure query time and compute mAP\n",
    "_, mAP_200K = index.compute_mAP(query_names, query_desc)"
   ]
  },
  {
   "cell_type": "code",
   "execution_count": 14,
   "id": "ba4761f6",
   "metadata": {
    "deletable": false,
    "editable": false,
    "nbgrader": {
     "cell_type": "code",
     "checksum": "6875afc6dfca2a616f133288c78f80b8",
     "grade": true,
     "grade_id": "cell-376a7cc3cc44f953",
     "locked": true,
     "points": 0.3,
     "schema_version": 3,
     "solution": false,
     "task": false
    }
   },
   "outputs": [
    {
     "name": "stdout",
     "output_type": "stream",
     "text": [
      "mAP 200: 0.08896\n",
      "mAP 2K: 0.22528\n",
      "mAP 20K: 0.38469\n",
      "mAP 200K: 0.48844\n"
     ]
    }
   ],
   "source": [
    "print('mAP 200: %.5f' % mAP_200)\n",
    "print('mAP 2K: %.5f' % mAP_2K)\n",
    "print('mAP 20K: %.5f' % mAP_20K)\n",
    "print('mAP 200K: %.5f' % mAP_200K)"
   ]
  },
  {
   "cell_type": "markdown",
   "id": "1aa3cf87",
   "metadata": {
    "deletable": false,
    "editable": false,
    "nbgrader": {
     "cell_type": "markdown",
     "checksum": "58e36b7d12f7a1862ee69a275c488e78",
     "grade": false,
     "grade_id": "cell-72b92aeae5e2af5e",
     "locked": true,
     "schema_version": 3,
     "solution": false,
     "task": false
    }
   },
   "source": [
    "**Q13:** Compare the performances obtained on each case. Is a larger vocabulary size always better? Why or why not?"
   ]
  },
  {
   "cell_type": "markdown",
   "id": "65d6852c",
   "metadata": {
    "deletable": false,
    "editable": false,
    "nbgrader": {
     "cell_type": "markdown",
     "checksum": "a3f86e368c5ab58b8438a3e3f04f4ecb",
     "grade": false,
     "grade_id": "cell-cb30e6754f8a5982",
     "locked": true,
     "points": 0.2,
     "schema_version": 3,
     "solution": false,
     "task": true
    }
   },
   "source": [
    "Write here the code required to answer the questions stated above. You can add more cells (code / markdown) at this point if you need it."
   ]
  },
  {
   "cell_type": "markdown",
   "id": "07e61ca3-15b0-4912-8536-e38472365b9b",
   "metadata": {},
   "source": [
    "**Response Q13**:  \n",
    "The outcomes of the BoW + TF-IDF model with varying vocabulary sizes indicate a tendency for Mean Average Precision (mAP) to increase with the size of the vocabulary.  \n",
    "An increase in the vocabulary size from 200 to 200,000 visual words has been observed to result in a notable enhancement in mean average precision (mAP), which can be interpreted as an improvement in retrieval performance. This improvement is anticipated due to the detailed representation of image content facilitated by a larger vocabulary, which enables more precise matching. Furthermore, a larger vocabulary allows for the capture of a more diverse range of unique features, thereby enhancing the ability to differentiate between images effectively.  \n",
    "\n",
    "Nevertheless, while a larger vocabulary size can yield benefits in performance, it also introduces potential limitations. These include increased computational complexity, a lengthening of processing durations, and the risk of overfitting, whereby the model becomes excessively tailored to the training data. Consequently, while augmenting the vocabulary can enhance retrieval accuracy, it is of the utmost importance to exercise caution when considering the trade-offs between computational resources and model generalization, to optimize performance effectively.  "
   ]
  },
  {
   "cell_type": "markdown",
   "id": "752ac143",
   "metadata": {
    "deletable": false,
    "editable": false,
    "nbgrader": {
     "cell_type": "markdown",
     "checksum": "1323fe25eb88898f8692a84bce80fd7d",
     "grade": false,
     "grade_id": "cell-48a4fa20de0d9cb3",
     "locked": true,
     "schema_version": 3,
     "solution": false,
     "task": false
    }
   },
   "source": [
    "**Q14**: Analyze the effect of the vocabulary size in terms of mAP and average response time (train and query times). Are these times constant for each vocabulary? Some plots here can be useful to justify your answer."
   ]
  },
  {
   "cell_type": "markdown",
   "id": "c07db06d",
   "metadata": {
    "deletable": false,
    "editable": false,
    "nbgrader": {
     "cell_type": "markdown",
     "checksum": "893995c02d8723df87a01fb6358c0444",
     "grade": false,
     "grade_id": "cell-2ee84889d64d2b77",
     "locked": true,
     "points": 0.1,
     "schema_version": 3,
     "solution": false,
     "task": true
    }
   },
   "source": [
    "Write here the code required to answer the questions stated above. You can add more cells (code / markdown) at this point if you need it."
   ]
  },
  {
   "cell_type": "markdown",
   "id": "59860d7a-b0bf-4d1c-9bfc-72de66057b88",
   "metadata": {},
   "source": [
    "**Response Q14**:  \n",
    "For each vocabulary size in vocab_sizes, measure the training and query times, compute the mAP score, and plot the results. The plots will help us analyze the effect of the vocabulary size on the mAP score and the response times."
   ]
  },
  {
   "cell_type": "code",
   "execution_count": 15,
   "id": "1084d90a",
   "metadata": {},
   "outputs": [
    {
     "data": {
      "image/png": "[encoded data removed]",
      "text/plain": [
       "<Figure size 1000x500 with 1 Axes>"
      ]
     },
     "metadata": {},
     "output_type": "display_data"
    },
    {
     "data": {
      "image/png": "[encoded data removed]",
      "text/plain": [
       "<Figure size 1000x500 with 1 Axes>"
      ]
     },
     "metadata": {},
     "output_type": "display_data"
    },
    {
     "data": {
      "image/png": "[encoded data removed]",
      "text/plain": [
       "<Figure size 1000x500 with 1 Axes>"
      ]
     },
     "metadata": {},
     "output_type": "display_data"
    }
   ],
   "source": [
    "import time\n",
    "\n",
    "# List of vocabulary sizes to test\n",
    "vocab_sizes = [200, 2000, 20000, 200000]\n",
    "\n",
    "# Initialize lists to store results\n",
    "mAP_scores = []\n",
    "train_times = []\n",
    "query_times = []\n",
    "\n",
    "for vocab_size in vocab_sizes:\n",
    "    # Initialize BoW with current vocabulary size\n",
    "    index = BoW_TFIDF(f'clust/clust_flickr60_k{vocab_size}.fvecs')\n",
    "\n",
    "    # Measure training time\n",
    "    start_time = time.time()\n",
    "    index.build_db(train_names, train_desc)\n",
    "    end_time = time.time()\n",
    "    train_times.append(end_time - start_time)\n",
    "\n",
    "    # Measure query time and compute mAP\n",
    "    start_time = time.time()\n",
    "    results, mAP = index.compute_mAP(query_names, query_desc)\n",
    "    end_time = time.time()\n",
    "    query_times.append(end_time - start_time)\n",
    "    mAP_scores.append(mAP)\n",
    "\n",
    "# Plot mAP scores\n",
    "plt.figure(figsize=(10, 5))\n",
    "plt.plot(vocab_sizes, mAP_scores, marker='o')\n",
    "for i, txt in enumerate(mAP_scores):\n",
    "    plt.text(vocab_sizes[i], mAP_scores[i], f'{txt:.2f}')\n",
    "plt.title('mAP scores for different vocabulary sizes')\n",
    "plt.xlabel('Vocabulary size')\n",
    "plt.ylabel('mAP score')\n",
    "plt.grid(True)\n",
    "plt.show()\n",
    "\n",
    "# Plot training times\n",
    "plt.figure(figsize=(10, 5))\n",
    "plt.plot(vocab_sizes, train_times, marker='o')\n",
    "for i, txt in enumerate(train_times):\n",
    "    plt.text(vocab_sizes[i], train_times[i], f'{txt:.2f}')\n",
    "plt.title('Training times for different vocabulary sizes')\n",
    "plt.xlabel('Vocabulary size')\n",
    "plt.ylabel('Training time (seconds)')\n",
    "plt.grid(True)\n",
    "plt.show()\n",
    "\n",
    "# Plot query times\n",
    "plt.figure(figsize=(10, 5))\n",
    "plt.plot(vocab_sizes, query_times, marker='o')\n",
    "for i, txt in enumerate(query_times):\n",
    "    plt.text(vocab_sizes[i], query_times[i], f'{txt:.2f}')\n",
    "plt.title('Query times for different vocabulary sizes')\n",
    "plt.xlabel('Vocabulary size')\n",
    "plt.ylabel('Query time (seconds)')\n",
    "plt.grid(True)\n",
    "plt.show()"
   ]
  },
  {
   "cell_type": "markdown",
   "id": "24b25fb9-7f30-499d-b6af-bcd3f1e533db",
   "metadata": {},
   "source": [
    "**Commented results**:  \n",
    "\n",
    "Using the Bag-of-Words model, each image is represented by a histogram of visual words, each of which corresponds to a cluster center. The number of visual words directly influences the level of detail in this representation. Having a larger vocabulary can lead to more accurate matches and hence a higher Mean Average Precision (mAP).  \n",
    "\n",
    "The TF-IDF scoring scheme refines this representation by giving higher weights to discriminatory visual words. This is achieved by considering those words that appear frequently in a particular image (high Term Frequency or TF) but rarely in the entire dataset (high Inverse Document Frequency or IDF). The mAP can be further enhanced by better differentiation between images.  \n",
    "\n",
    "However, as the vocabulary size increases, the computational complexity of both the training and querying processes also increases. This is evidenced by the longer training times observed for larger vocabulary. As vocabulary size increases, query times decrease. This phenomenon may be attributed to enhanced search efficiency enabled by a larger vocabulary.  \n",
    "\n",
    "The observed results are consistent with the theoretical predictions of the BoW + TF-IDF model. Vocabulary size is generally associated with better accuracy (higher mAP), but also with more computational complexity (longer training times)."
   ]
  },
  {
   "cell_type": "markdown",
   "id": "efc83c87",
   "metadata": {
    "deletable": false,
    "editable": false,
    "nbgrader": {
     "cell_type": "markdown",
     "checksum": "47620cd7566940588cc996e91d08d89a",
     "grade": false,
     "grade_id": "cell-732533d28be0d7f8",
     "locked": true,
     "schema_version": 3,
     "solution": false,
     "task": false
    }
   },
   "source": [
    "**Q15**: Do the results obtained depend on the set of images used to generate the vocabulary? How can we improve the retrieval performance?"
   ]
  },
  {
   "cell_type": "markdown",
   "id": "61429d22",
   "metadata": {
    "deletable": false,
    "editable": false,
    "nbgrader": {
     "cell_type": "markdown",
     "checksum": "579ffa1118fbc2f4afcf2e41cfed997e",
     "grade": false,
     "grade_id": "cell-d18ed77c92a81b75",
     "locked": true,
     "points": 0.1,
     "schema_version": 3,
     "solution": false,
     "task": true
    }
   },
   "source": [
    "Write here the code required to answer the questions stated above. You can add more cells (code / markdown) at this point if you need it."
   ]
  },
  {
   "cell_type": "markdown",
   "id": "b83bdedf-0523-4473-a6bc-82f3a5227cec",
   "metadata": {},
   "source": [
    "**Response Q15**:  \n",
    "\n",
    "The vocabulary is essentially a set of \"visual words\" that are used to represent images. The visual words are typically obtained by clustering feature descriptors extracted from a set of training images. Consequently, the selection of training images can have a significant impact on the vocabulary and, in turn, the performance of the image retrieval system.  \n",
    "\n",
    "1. A diverse training set is a prerequisite. It is of the utmost importance to ensure that the training set used to generate the vocabulary is diverse and representative of the types of images that will be queried. This can facilitate the creation of a more robust and generalizable vocabulary.  \n",
    "\n",
    "2. The results demonstrate that the size of the vocabulary has a significant impact on performance. In addition to improving accuracy, a larger vocabulary increases computational complexity. Consequently, it is of paramount importance to identify an equilibrium that strikes a balance between accuracy and efficiency.  \n",
    "\n",
    "3. Using more advanced feature descriptors be employed, as they are capable of capturing more complex and distinctive image characteristics. This could potentially enhance the capacity of the visual words to discriminate between different classes of objects.  \n",
    "\n",
    "4. On the TF-IDF, other weighting schemes could be considered for the assignment of weights to the visual words. For instance, weighting schemes that consider the spatial distribution of visual words within an image may prove beneficial in enhancing performance."
   ]
  },
  {
   "cell_type": "markdown",
   "id": "6465cfb0",
   "metadata": {
    "deletable": false,
    "editable": false,
    "nbgrader": {
     "cell_type": "markdown",
     "checksum": "19391fa0b37d795714ed3302f0847a36",
     "grade": false,
     "grade_id": "cell-e611dd64897c293c",
     "locked": true,
     "schema_version": 3,
     "solution": false,
     "task": false
    }
   },
   "source": [
    "**Q16:** How does TF-IDF affect the performance? Better or worse? Does this make sense?"
   ]
  },
  {
   "cell_type": "markdown",
   "id": "4b193d85",
   "metadata": {
    "deletable": false,
    "editable": false,
    "nbgrader": {
     "cell_type": "markdown",
     "checksum": "ee1bf086bcde24459725d8df028eed97",
     "grade": false,
     "grade_id": "cell-00341a8c321999b8",
     "locked": true,
     "points": 0.2,
     "schema_version": 3,
     "solution": false,
     "task": true
    }
   },
   "source": [
    "Write here the code required to answer the questions stated above. You can add more cells (code / markdown) at this point if you need it."
   ]
  },
  {
   "cell_type": "markdown",
   "id": "049c863c-372a-46c0-b6ba-4692eebeebbc",
   "metadata": {},
   "source": [
    "**Response Q16**:  \n",
    "\n",
    "The application of TF-IDF (Term Frequency-Inverse Document Frequency) in conjunction with the Bag-of-Words (BoW) model appears to enhance the performance of the image retrieval system, as evidenced by the increase in Mean Average Precision (mAP).  \n",
    "\n",
    "A comparison of the mAP scores for the BoW model with and without TF-IDF is presented below.  \n",
    "\n",
    "- **Vocabulary Size 200**: mAP improved from <ins>0.05</ins> (without TF-IDF) to <ins>0.089</ins> (with TF-IDF).\n",
    "- **Vocabulary Size 2K**: mAP improved from <ins>0.42</ins> (without TF-IDF) to <ins>0.229</ins> (with TF-IDF).\n",
    "- **Vocabulary Size 20K**: mAP improved from <ins>0.47</ins> (without TF-IDF) to <ins>0.375</ins> (with TF-IDF).\n",
    "- **Vocabulary Size 200K**: mAP improved from <ins>0.52</ins> (without TF-IDF) to <ins>0.483</ins> (with TF-IDF).\n",
    "\n",
    "\n",
    "The application of TF-IDF (Term Frequency-Inverse Document Frequency) in conjunction with the Bag-of-Words (BoW) model appears to enhance the performance of the image retrieval system, as evidenced by the increase in Mean Average Precision (mAP).  \n",
    "\n",
    "The theoretical rationale for this performance improvement is evident. The BoW model represents each image as a histogram of visual words, but it does not consider the relative importance of each word. Conversely, TF-IDF assigns weights to visual words based on their frequency in the image (TF) and their inverse frequency in the entire dataset (IDF). This implies that words that are prevalent in a specific image but scarce throughout the entire dataset are accorded greater weight, thereby rendering them more discriminatory. This can result in more accurate matches, which in turn leads to a higher mAP.\n",
    "\n",
    "It is, however, important to note that the improvement in mAP is accompanied by an increase in computational complexity. This is evidenced by the longer training times for the BoW model with TF-IDF. Consequently, the decision between utilizing BoW in isolation or in conjunction with TF-IDF should be contingent upon a balance between retrieval efficacy and computational efficiency. \n",
    "\n",
    "In conclusion, the application of TF-IDF with the BoW model can enhance the performance of an image retrieval system. However, this also increases computational complexity. The decision as to whether to utilize TF-IDF should therefore be contingent upon the specific requirements of the application in question. It is prudent to experiment with different approaches and evaluate their performance."
   ]
  },
  {
   "cell_type": "markdown",
   "id": "8b3b83bc",
   "metadata": {
    "deletable": false,
    "editable": false,
    "nbgrader": {
     "cell_type": "markdown",
     "checksum": "6874518beeb5a091fed8581c10ef1011",
     "grade": false,
     "grade_id": "cell-6177cc11a553139d",
     "locked": true,
     "schema_version": 3,
     "solution": false,
     "task": false
    }
   },
   "source": [
    "## Submitting your work\n",
    "\n",
    "**Important**: Please make sure that the submitted notebooks have been run and the cell outputs are visible.\n",
    "\n",
    "**Important**: Please make also sure that you have filled the **NAME** and **DNI** variables at the beginning of the notebook, **using the indicated format**.\n",
    "\n",
    "Once you have filled out the necessary code and you are happy with your solution, **save your notebook** and execute the following cell:"
   ]
  },
  {
   "cell_type": "code",
   "execution_count": null,
   "id": "0ef0d318",
   "metadata": {
    "deletable": false,
    "editable": false,
    "nbgrader": {
     "cell_type": "code",
     "checksum": "2fb2e4ea279e65bae1d2158cee2833cf",
     "grade": false,
     "grade_id": "cell-10bc3c3e005d0af2",
     "locked": true,
     "schema_version": 3,
     "solution": false,
     "task": false
    }
   },
   "outputs": [],
   "source": [
    "zip_filename = DNI + '_A2.zip'\n",
    "zf = zipfile.ZipFile(zip_filename, mode = 'w')\n",
    "\n",
    "aname = 'submitted/' + DNI + '/A2/Image_Indexing.ipynb'\n",
    "zf.write('Image_Indexing.ipynb', arcname = aname);\n",
    "\n",
    "zf.close()"
   ]
  },
  {
   "cell_type": "markdown",
   "id": "f06aa9d3",
   "metadata": {
    "deletable": false,
    "editable": false,
    "nbgrader": {
     "cell_type": "markdown",
     "checksum": "93bd6809604488b49b428e0cc6fe6a1c",
     "grade": false,
     "grade_id": "cell-74b609759ffc12db",
     "locked": true,
     "schema_version": 3,
     "solution": false,
     "task": false
    }
   },
   "source": [
    "This will generate a zip file of your code called `DNI_A2.zip` in the same directory of the assignment. This is the file that you must upload to [Aula Digital](https://ad.uib.es/) to submit your work!"
   ]
  },
  {
   "cell_type": "markdown",
   "id": "8fbc2805",
   "metadata": {
    "deletable": false,
    "editable": false,
    "nbgrader": {
     "cell_type": "markdown",
     "checksum": "a3e5f552b4935747a0f94ab360623ea5",
     "grade": false,
     "grade_id": "cell_foot_1",
     "locked": true,
     "schema_version": 3,
     "solution": false,
     "task": false
    }
   },
   "source": [
    "---\n",
    "\n",
    "&copy; Emilio Garcia-Fidalgo, University of the Balearic Islands"
   ]
  }
 ],
 "metadata": {
  "kernelspec": {
   "display_name": "Python 3 (ipykernel)",
   "language": "python",
   "name": "python3"
  },
  "language_info": {
   "codemirror_mode": {
    "name": "ipython",
    "version": 3
   },
   "file_extension": ".py",
   "mimetype": "text/x-python",
   "name": "python",
   "nbconvert_exporter": "python",
   "pygments_lexer": "ipython3",
   "version": "3.9.7"
  }
 },
 "nbformat": 4,
 "nbformat_minor": 5
}
